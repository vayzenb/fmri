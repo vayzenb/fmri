{
 "cells": [
  {
   "cell_type": "code",
   "execution_count": 2,
   "metadata": {},
   "outputs": [],
   "source": [
    "from nilearn import plotting\n",
    "from nilearn import image\n",
    "import matplotlib.pyplot as plt\n",
    "import subprocess\n",
    "import os\n",
    "%matplotlib inline"
   ]
  },
  {
   "cell_type": "code",
   "execution_count": 3,
   "metadata": {},
   "outputs": [],
   "source": [
    "all_subs = [\"spaceloc1001\",\"spaceloc1002\",\"spaceloc1003\",\"spaceloc1004\",\"spaceloc1005\",\"spaceloc1006\",\"spaceloc1007\"] \n",
    "all_conds = ['spaceloc','depthloc','distloc','toolloc']\n",
    "all_copes = [[1,2], [1,2], [1,2], [1,2]]\n",
    "cope_name=[['Space','Feature'], ['3D',\"2D\"], ['Distance', 'Luminance'], ['Tool','Non-tool']]\n",
    "suf = \"_roi\"\n",
    "\n",
    "\n",
    "proj_dir = f'/lab_data/behrmannlab/vlad/spaceloc/'\n",
    "#anat = f'{proj_dir}/anat/sub-{sub_list}_ses-01_T1w_brain.nii.gz'\n",
    "\n",
    "#func_dir = f'{proj_dir}/derivatives/fsl/'"
   ]
  },
  {
   "cell_type": "markdown",
   "metadata": {},
   "source": [
    "Cluster corrected masks"
   ]
  },
  {
   "cell_type": "code",
   "execution_count": null,
   "metadata": {},
   "outputs": [],
   "source": [
    "'''Data plotted for each condition for one sub'''\n",
    "sub = all_subs[0]\n",
    "conds = all_conds\n",
    "copes = all_copes\n",
    "for cc_num,cc in enumerate(conds):\n",
    "    cond_dir = f'{file_dir}/derivatives/fsl/{cc}/HighLevel{suf}.gfeat/'\n",
    "    \n",
    "    for cp_num, cp in enumerate(copes[cc_num]):\n",
    "        clust_file = f'{cond_dir}/cope{cp}.feat/cluster_mask_zstat1.nii.gz'\n",
    "        plotting.plot_stat_map(clust_file, cmap = plotting.cm.videen_style, title = cope_name[cc_num][cp_num])\n",
    "        \n",
    "        \n"
   ]
  },
  {
   "cell_type": "code",
   "execution_count": null,
   "metadata": {},
   "outputs": [],
   "source": [
    "'''Data plotted for one condition for each sub'''\n",
    "subs = all_subs\n",
    "conds = all_conds[1]\n",
    "copes = all_copes[1][0]\n",
    "for ss_num,ss in enumerate(subs):\n",
    "    cond_dir = f'{proj_dir}/sub-{ss}/ses-01/derivatives/fsl/{conds}/HighLevel{suf}.gfeat/'\n",
    "    \n",
    "    clust_file = f'{cond_dir}/cope{copes}.feat/cluster_mask_zstat1.nii.gz'\n",
    "    func_file = f'{cond_dir}/cope{copes}.feat/stats/zstat1.nii.gz'\n",
    "    plotting.plot_stat_map(func_file, cmap = plotting.cm.cold_hot, \n",
    "                           cut_coords = [-36, -68, 48], threshold = 3,title = f'{ss}_{conds}')\n",
    "    \n",
    "    #plotting.view_img(func_file, threshold=3) \n",
    "        \n",
    "        "
   ]
  },
  {
   "cell_type": "code",
   "execution_count": null,
   "metadata": {},
   "outputs": [],
   "source": [
    "ss = \"spaceloc1005\"\n",
    "\n",
    "cond_dir = f'{proj_dir}/sub-{ss}/ses-01/derivatives/fsl/{conds}/HighLevel{suf}.gfeat/'\n",
    "func_file = f'{cond_dir}/cope{copes}.feat/stats/zstat1.nii.gz'\n",
    "plotting.view_img(func_file, threshold=3) "
   ]
  },
  {
   "cell_type": "code",
   "execution_count": null,
   "metadata": {
    "jupyter": {
     "source_hidden": true
    }
   },
   "outputs": [],
   "source": [
    "cc = \"spaceloc\"\n",
    "cp = 0\n",
    "cond_dir = f'{file_dir}/derivatives/fsl/{cond}/HighLevel{suf}.gfeat/'\n",
    "clust_file = f'{cond_dir}/cope{cp}.feat/cluster_mask_zstat1.nii.gz'\n",
    "func_file = f'{cond_dir}/cope{cp}.feat/stats/zstat1.nii.gz'\n",
    "print(clust_file)\n",
    "plotting.view_img(func_file, threshold=3) "
   ]
  },
  {
   "cell_type": "code",
   "execution_count": 18,
   "metadata": {},
   "outputs": [
    {
     "ename": "CalledProcessError",
     "evalue": "Command '['fslmaths', '$FSLDIR/data/standard/MNI152_T1_2mm_brain.nii.gz', '-mul', '0', '-add', '1', '-roi', '54', '1', '32', '1', '63', '1', '0', '1', '/lab_data/behrmannlab/vlad/spaceloc//derivatives/rois/dorsal_spheres/dist_lSPL.nii.gz', '-odt', 'float']' died with <Signals.SIGABRT: 6>.",
     "output_type": "error",
     "traceback": [
      "\u001b[0;31m---------------------------------------------------------------------------\u001b[0m",
      "\u001b[0;31mCalledProcessError\u001b[0m                        Traceback (most recent call last)",
      "\u001b[0;32m<ipython-input-18-b43e9291cf24>\u001b[0m in \u001b[0;36m<module>\u001b[0;34m\u001b[0m\n\u001b[1;32m     20\u001b[0m \u001b[0;32mfor\u001b[0m \u001b[0mrn\u001b[0m\u001b[0;34m,\u001b[0m \u001b[0mrr\u001b[0m \u001b[0;32min\u001b[0m \u001b[0menumerate\u001b[0m\u001b[0;34m(\u001b[0m\u001b[0mrois\u001b[0m\u001b[0;34m)\u001b[0m\u001b[0;34m:\u001b[0m\u001b[0;34m\u001b[0m\u001b[0;34m\u001b[0m\u001b[0m\n\u001b[1;32m     21\u001b[0m     \u001b[0mbash_cmd\u001b[0m \u001b[0;34m=\u001b[0m \u001b[0;34mf'fslmaths {mni} -mul 0 -add 1 -roi {coords[rn][0]} 1 {coords[rn][1]} 1 {coords[rn][2]} 1 0 1 {out_dir}/{rr}.nii.gz -odt float'\u001b[0m\u001b[0;34m\u001b[0m\u001b[0;34m\u001b[0m\u001b[0m\n\u001b[0;32m---> 22\u001b[0;31m     \u001b[0mbash_out\u001b[0m \u001b[0;34m=\u001b[0m \u001b[0msubprocess\u001b[0m\u001b[0;34m.\u001b[0m\u001b[0mrun\u001b[0m\u001b[0;34m(\u001b[0m\u001b[0mbash_cmd\u001b[0m\u001b[0;34m.\u001b[0m\u001b[0msplit\u001b[0m\u001b[0;34m(\u001b[0m\u001b[0;34m)\u001b[0m\u001b[0;34m,\u001b[0m\u001b[0mcheck\u001b[0m\u001b[0;34m=\u001b[0m\u001b[0;32mTrue\u001b[0m\u001b[0;34m,\u001b[0m \u001b[0mcapture_output\u001b[0m\u001b[0;34m=\u001b[0m\u001b[0;32mTrue\u001b[0m\u001b[0;34m,\u001b[0m \u001b[0mtext\u001b[0m\u001b[0;34m=\u001b[0m\u001b[0;32mTrue\u001b[0m\u001b[0;34m)\u001b[0m\u001b[0;34m\u001b[0m\u001b[0;34m\u001b[0m\u001b[0m\n\u001b[0m\u001b[1;32m     23\u001b[0m \u001b[0;34m\u001b[0m\u001b[0m\n\u001b[1;32m     24\u001b[0m     \u001b[0mbash_cmd\u001b[0m \u001b[0;34m=\u001b[0m \u001b[0;34mf'fslmaths {out_dir}/{rr}.nii.gz -kernel sphere 5 -fmean {out_dir}/{rr}.nii.gz -odt float'\u001b[0m\u001b[0;34m\u001b[0m\u001b[0;34m\u001b[0m\u001b[0m\n",
      "\u001b[0;32m~/anaconda3/envs/fmri/lib/python3.8/subprocess.py\u001b[0m in \u001b[0;36mrun\u001b[0;34m(input, capture_output, timeout, check, *popenargs, **kwargs)\u001b[0m\n\u001b[1;32m    510\u001b[0m         \u001b[0mretcode\u001b[0m \u001b[0;34m=\u001b[0m \u001b[0mprocess\u001b[0m\u001b[0;34m.\u001b[0m\u001b[0mpoll\u001b[0m\u001b[0;34m(\u001b[0m\u001b[0;34m)\u001b[0m\u001b[0;34m\u001b[0m\u001b[0;34m\u001b[0m\u001b[0m\n\u001b[1;32m    511\u001b[0m         \u001b[0;32mif\u001b[0m \u001b[0mcheck\u001b[0m \u001b[0;32mand\u001b[0m \u001b[0mretcode\u001b[0m\u001b[0;34m:\u001b[0m\u001b[0;34m\u001b[0m\u001b[0;34m\u001b[0m\u001b[0m\n\u001b[0;32m--> 512\u001b[0;31m             raise CalledProcessError(retcode, process.args,\n\u001b[0m\u001b[1;32m    513\u001b[0m                                      output=stdout, stderr=stderr)\n\u001b[1;32m    514\u001b[0m     \u001b[0;32mreturn\u001b[0m \u001b[0mCompletedProcess\u001b[0m\u001b[0;34m(\u001b[0m\u001b[0mprocess\u001b[0m\u001b[0;34m.\u001b[0m\u001b[0margs\u001b[0m\u001b[0;34m,\u001b[0m \u001b[0mretcode\u001b[0m\u001b[0;34m,\u001b[0m \u001b[0mstdout\u001b[0m\u001b[0;34m,\u001b[0m \u001b[0mstderr\u001b[0m\u001b[0;34m)\u001b[0m\u001b[0;34m\u001b[0m\u001b[0;34m\u001b[0m\u001b[0m\n",
      "\u001b[0;31mCalledProcessError\u001b[0m: Command '['fslmaths', '$FSLDIR/data/standard/MNI152_T1_2mm_brain.nii.gz', '-mul', '0', '-add', '1', '-roi', '54', '1', '32', '1', '63', '1', '0', '1', '/lab_data/behrmannlab/vlad/spaceloc//derivatives/rois/dorsal_spheres/dist_lSPL.nii.gz', '-odt', 'float']' died with <Signals.SIGABRT: 6>."
     ]
    }
   ],
   "source": [
    "'''\n",
    "Make spherical Rois from previous studies\n",
    "'''\n",
    "mni = f'$FSLDIR/data/standard/MNI152_T1_2mm_brain.nii.gz'\n",
    "out_dir = f'{proj_dir}/derivatives/rois/dorsal_spheres'\n",
    "\n",
    "rois = ['dist_lSPL', 'dist_rSPL', 'dist_rIPL', \n",
    "        'depth_lvIPS', 'depth_rvIPS', 'depth_ldIPS', 'depth_rdIPS', \n",
    "        'tool_rhand', 'tool_laIPS', \n",
    "        'WM_lsIPS','WM_rsIPS']\n",
    "\n",
    "coords = [[54,32,63], [34,33,66],[20,47,52],\n",
    "          [57,27,55],[26,23,46],[58,31,64], [34,32,64],\n",
    "          [29,47,64], [63,38,59],\n",
    "          [62,35,62],[25,35,61]]\n",
    "#bash_cmd = 'module load fsl-6.0.3'\n",
    "#bash_out = subprocess.run(bash_cmd.split(),check=True, capture_output=True, text=True)\n",
    "\n",
    "\n",
    "for rn, rr in enumerate(rois):\n",
    "    bash_cmd = f'fslmaths {mni} -mul 0 -add 1 -roi {coords[rn][0]} 1 {coords[rn][1]} 1 {coords[rn][2]} 1 0 1 {out_dir}/{rr}.nii.gz -odt float'\n",
    "    bash_out = subprocess.run(bash_cmd.split(),check=True, capture_output=True, text=True)\n",
    "\n",
    "    bash_cmd = f'fslmaths {out_dir}/{rr}.nii.gz -kernel sphere 5 -fmean {out_dir}/{rr}.nii.gz -odt float'\n",
    "    bash_out = subprocess.run(bash_cmd.split(),check=True, capture_output=True, text=True)\n",
    "\n",
    "    bash_cmd = f'fslmaths {out_dir}/{rr}.nii.gz -bin {out_dir}/{rr}.nii.gz'\n",
    "    bash_out = subprocess.run(bash_cmd.split(),check=True, capture_output=True, text=True)\n",
    "    \n",
    "    break\n",
    "\n"
   ]
  },
  {
   "cell_type": "code",
   "execution_count": 16,
   "metadata": {},
   "outputs": [],
   "source": [
    "bash_cmd = f'fslmaths {mni} -mul 0 -add 1 -roi {coords[rn][0]} 1 {coords[rn][1]} 1 {coords[rn][2]} 1 0 1 {out_dir}/{rr}.nii.gz -odt float'\n",
    "bash_out = subprocess.run(bash_cmd.split(), capture_output=True, text=True)"
   ]
  },
  {
   "cell_type": "code",
   "execution_count": 17,
   "metadata": {},
   "outputs": [
    {
     "name": "stdout",
     "output_type": "stream",
     "text": [
      "\n"
     ]
    }
   ],
   "source": [
    "print(bash_out.stdout)"
   ]
  },
  {
   "cell_type": "code",
   "execution_count": null,
   "metadata": {},
   "outputs": [],
   "source": []
  }
 ],
 "metadata": {
  "kernelspec": {
   "display_name": "Python [conda env:fmri]",
   "language": "python",
   "name": "conda-env-fmri-py"
  },
  "language_info": {
   "codemirror_mode": {
    "name": "ipython",
    "version": 3
   },
   "file_extension": ".py",
   "mimetype": "text/x-python",
   "name": "python",
   "nbconvert_exporter": "python",
   "pygments_lexer": "ipython3",
   "version": "3.8.0"
  }
 },
 "nbformat": 4,
 "nbformat_minor": 5
}
