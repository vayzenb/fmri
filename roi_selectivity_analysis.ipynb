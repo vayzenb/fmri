{
 "cells": [
  {
   "cell_type": "code",
   "execution_count": null,
   "metadata": {},
   "outputs": [],
   "source": [
    "import numpy as np\n",
    "import pandas as pd\n",
    "import subprocess\n",
    "import os\n",
    "import shutil\n",
    "import warnings\n",
    "import matplotlib\n",
    "import matplotlib.pyplot as plt\n",
    "#%matplotlib inline\n",
    "warnings.filterwarnings('ignore')\n",
    "\n"
   ]
  },
  {
   "cell_type": "markdown",
   "metadata": {},
   "source": [
    "Make VSF plots"
   ]
  },
  {
   "cell_type": "code",
   "execution_count": null,
   "metadata": {},
   "outputs": [],
   "source": [
    "def plot_data(df, cond, cond_name, y_ax,suf):\n",
    "    df = df[cond]\n",
    "    df.columns = cond_name\n",
    "    ax = df.plot.line()\n",
    "    ax.set_xlabel(\"Number of Voxels\")\n",
    "    ax.set_ylabel(y_ax)\n",
    "    plt.title(f'{lr}{rois[rr]}')\n",
    "    plt.legend(bbox_to_anchor=(1.05, 1.0), loc='upper left')\n",
    "    plt.tight_layout()\n",
    "    plt.savefig(f'{sub_dir}/results/{lr}{rois[rr]}_{suf}.png',bbox_inches='tight')\n",
    "    #plt.close()"
   ]
  },
  {
   "cell_type": "markdown",
   "metadata": {},
   "source": [
    "Calculate distance from to each voxel to peak voxel"
   ]
  },
  {
   "cell_type": "code",
   "execution_count": null,
   "metadata": {},
   "outputs": [],
   "source": [
    "def calc_distance(loc_df):\n",
    "    peak_vox = loc_df.iloc[0,0:3]\n",
    "\n",
    "    all_coords = loc_df.iloc[:,0:3]\n",
    "\n",
    "    dist = all_coords[['x', 'y', 'z']].sub(np.array(peak_vox)).pow(2).sum(1).pow(0.5)\n",
    "    return dist\n"
   ]
  },
  {
   "cell_type": "markdown",
   "metadata": {},
   "source": [
    "Function to extract functional localizer data from each ROI and parameter estimate from each mask"
   ]
  },
  {
   "cell_type": "code",
   "execution_count": null,
   "metadata": {},
   "outputs": [],
   "source": [
    "def extract_data(sub_dir, results_dir, lr, rr):\n",
    "    #check if ROI exists\n",
    "    for sf_loc in suf: #loop across run type for the masks\n",
    "        roi_nifti = f'{sub_dir}/rois/{lr}{rois[rr]}{sf_loc}.nii.gz'\n",
    "        if os.path.exists(roi_nifti):\n",
    "\n",
    "            #Extract functional z-stat data from the localizer\n",
    "            #if sf_loc != '_all':\n",
    "            loc_suf = f'{sf_loc}_smooth'\n",
    "            #else:\n",
    "            #   loc_suf = sf_loc\n",
    "\n",
    "            cope_nifti = f\"{sub_dir}/fsl/{exp}/HighLevel{loc_suf}.gfeat/cope{loc_cope[rr]}.feat/stats/zstat1.nii.gz\"\n",
    "            out = f'{results_dir}/{lr}{rois[rr]}{sf_loc}_localizer'\n",
    "            #extract_data(cope_nifti, roi_nifti, f'{results_dir}/{lr}{rois[rr]}{sf_loc}_localizer')\n",
    "\n",
    "            bash_cmd  = f'fslmeants -i {cope_nifti} -m {roi_nifti} -o {out}.txt --showall --transpose'\n",
    "            subprocess.run(bash_cmd.split(),check=True)\n",
    "\n",
    "            for sf_exp in suf: #loop across the run types for the copes\n",
    "                exp_suf = f'{sf_exp}_unsmoothed'\n",
    "                if sf_exp != \"_all\": #we don't test data for all\n",
    "                    for ec in range(0,len(exp_cope)):\n",
    "                        cope_nifti = f\"{sub_dir}/fsl/{exp}/HighLevel{exp_suf}.gfeat/cope{exp_cope[ec]}.feat/stats/pe1.nii.gz\"\n",
    "                        out = f'{results_dir}/{lr}{rois[rr]}{sf_loc}{sf_exp}_{cond[ec]}'\n",
    "                        #extract_data(roi_nifti, cope_nifti, f'{results_dir}/{lr}{rois[rr]}{sf_loc}_localizer.nii.gz')\n",
    "\n",
    "                        bash_cmd  = f'fslmeants -i {cope_nifti} -m {roi_nifti} -o {out}.txt --showall --transpose'\n",
    "                        #print(bash_cmd)\n",
    "                        subprocess.run(bash_cmd.split(),check=True)\n"
   ]
  },
  {
   "cell_type": "markdown",
   "metadata": {},
   "source": [
    "Function to load localizer and test data, append, average together, and plot"
   ]
  },
  {
   "cell_type": "code",
   "execution_count": 26,
   "metadata": {},
   "outputs": [],
   "source": [
    "def calc_selectivity(lr, rr, bin_size):\n",
    "    #define and read localzier files\n",
    "    odd_file = f'{results_dir}/{lr}{rois[rr]}_odd_localizer.txt'\n",
    "    even_file = f'{results_dir}/{lr}{rois[rr]}_even_localizer.txt'\n",
    "        \n",
    "    odd_df = pd.read_csv(odd_file, sep=\"  \", header=None, names = [\"x\", \"y\", \"z\", \"loc\"])\n",
    "    even_df = pd.read_csv(even_file, sep=\"  \", header=None, names = [\"x\", \"y\", \"z\", \"loc\"])\n",
    "\n",
    "\n",
    "    for cc in cond:\n",
    "        #define  odd and even exp file\n",
    "        #note that it should be pulled from the opposite test runs (from even ROI pull odd data)\n",
    "        #all naming convetions are relative to the ROI that data are being pulled\n",
    "        #odd_exp_file is even data pulled from *odd* run ROI\n",
    "        odd_exp_file = f'{results_dir}/{lr}{rois[rr]}_odd_even_{cc}.txt'\n",
    "        even_exp_file = f'{results_dir}/{lr}{rois[rr]}_even_odd_{cc}.txt'\n",
    "\n",
    "        #load each file\n",
    "        odd_exp = pd.read_csv(odd_exp_file, sep=\"  \", header=None, names = [\"x\", \"y\", \"z\", cc])\n",
    "        even_exp = pd.read_csv(even_exp_file, sep=\"  \", header=None, names = [\"x\", \"y\", \"z\", cc])                        \n",
    "\n",
    "        #Append it to the localizer data\n",
    "        odd_df = odd_df.join(odd_exp[cc])\n",
    "        even_df = even_df.join(even_exp[cc])\n",
    "\n",
    "    #sort file by localizer functional value (high to low)\n",
    "    #Reset the index on both\n",
    "    odd_df = odd_df.sort_values(by =['loc'], ascending=False)\n",
    "    even_df = even_df.sort_values(by =['loc'], ascending=False)\n",
    "    odd_df= odd_df.reset_index(drop=True)\n",
    "    even_df= even_df.reset_index(drop=True)\n",
    "    \n",
    "    #If you want to srot ROI voxels contiguously by distance from peak\n",
    "    #Reset the index on both\n",
    "    if roi_type == 'dist':\n",
    "        odd_df['dist'] = calc_distance(odd_df)\n",
    "        even_df['dist'] = calc_distance(even_df)\n",
    "        \n",
    "        odd_df = odd_df.sort_values(by =['dist', 'loc'], ascending=[True, False])\n",
    "        even_df = even_df.sort_values(by =['dist', 'loc'], ascending=[True, False])\n",
    "        odd_df= odd_df.reset_index(drop=True)\n",
    "        even_df= even_df.reset_index(drop=True)\n",
    "        \n",
    "    #subsample dfs using a rolling average\n",
    "    odd_df = odd_df.rolling(bin_size, win_type='triang').mean()\n",
    "    odd_df = odd_df.dropna()\n",
    "\n",
    "    even_df = even_df.rolling(bin_size, win_type='triang').mean()\n",
    "    even_df = even_df.dropna()\n",
    "\n",
    "    \n",
    "    \n",
    "    #reduce size to smaller matrix\n",
    "    if len(odd_df) <= len(even_df):\n",
    "        even_df = even_df.head(len(odd_df))\n",
    "    else:\n",
    "        odd_df = odd_df.head(len(even_df))\n",
    "\n",
    "    odd_test = odd_df\n",
    "    even_test = even_df\n",
    "    #odd_df= odd_df.reset_index(drop=True)\n",
    "    #even_df= even_df.reset_index(drop=True)\n",
    "\n",
    "\n",
    "    #average the dataframes together\n",
    "    df = pd.concat([odd_df, even_df]).groupby(level=0).mean()\n",
    "\n",
    "    return df, odd_test, even_test\n"
   ]
  },
  {
   "cell_type": "markdown",
   "metadata": {},
   "source": [
    "Calculate within- between- Haxby-style MVPA"
   ]
  },
  {
   "cell_type": "code",
   "execution_count": null,
   "metadata": {},
   "outputs": [],
   "source": [
    "def calc_mvpa(lr, rr, bin_size):\n",
    "    #define and read localzier files\n",
    "    loc_file = f'{results_dir}/{lr}{rois[rr]}_all_localizer.txt'\n",
    "\n",
    "    loc_df = pd.read_csv(loc_file, sep=\"  \", header=None, names = [\"x\", \"y\", \"z\", \"loc\"])\n",
    "\n",
    "    for cc in mvpa_cond:\n",
    "        #define  odd and even exp file\n",
    "        #note that it should be pulled from the opposite test runs (from even ROI pull odd data)\n",
    "        #all naming convetions are relative to the ROI that data are being pulled\n",
    "        #odd_exp_file is even data pulled from *odd* run ROI\n",
    "        odd_exp_file = f'{results_dir}/{lr}{rois[rr]}_all_odd_{cc}.txt'\n",
    "        even_exp_file = f'{results_dir}/{lr}{rois[rr]}_all_even_{cc}.txt'\n",
    "\n",
    "        #load each file and append localizer functional value\n",
    "        odd_exp = pd.read_csv(odd_exp_file, sep=\"  \", header=None, names = [\"x\", \"y\", \"z\", f'{cc}_odd'])\n",
    "        even_exp = pd.read_csv(even_exp_file, sep=\"  \", header=None, names = [\"x\", \"y\", \"z\", f'{cc}_even'])\n",
    "\n",
    "        loc_df = loc_df.join([odd_exp[cc + \"_odd\"],even_exp[cc+\"_even\"]])\n",
    "        #sort  by localizer value\n",
    "    \n",
    "    loc_df = loc_df.sort_values(by =['loc'], ascending=False)\n",
    "    loc_df= loc_df.reset_index(drop=True)\n",
    "    \n",
    "    if roi_type == 'dist':\n",
    "        loc_df['dist'] = calc_distance(loc_df)\n",
    "        \n",
    "        loc_df = loc_df.sort_values(by =['dist', 'loc'], ascending=[True, False])\n",
    "        loc_df= loc_df.reset_index(drop=True)\n",
    "        \n",
    "\n",
    "    #demean columns by condition\n",
    "    #demeaning is important here, because you are correlating across voxel and so you might have \n",
    "    #a shadow correlation because that voxel is arbitrarily high\n",
    "    row_mean=loc_df[[f'{mvpa_cond[0]}_odd', f'{mvpa_cond[0]}_even', f'{mvpa_cond[1]}_odd',f'{mvpa_cond[1]}_even']].mean(axis=1)\n",
    "    \n",
    "    #row_mean=loc_df.iloc[:,4:loc_df.shape[1]].mean(axis=1)\n",
    "    #loc_df.iloc[:,4:loc_df.shape[1]] =loc_df.iloc[:,4:loc_df.shape[1]].sub(row_mean,axis=0)\n",
    "    exp_df =loc_df[[f'{mvpa_cond[0]}_odd', f'{mvpa_cond[0]}_even', f'{mvpa_cond[1]}_odd',f'{mvpa_cond[1]}_even']].sub(row_mean,axis=0)\n",
    "\n",
    "    #Start within-between analysis\n",
    "    n = 1\n",
    "    df = pd.DataFrame()\n",
    "    between_temp = pd.DataFrame() \n",
    "    for c1 in mvpa_cond:\n",
    "        for c2 in mvpa_cond:\n",
    "\n",
    "            temp_x = exp_df[f'{c1}_odd']\n",
    "            temp_y = exp_df[f'{c2}_even']\n",
    "            temp = temp_x.rolling(bin_size).corr(temp_y)\n",
    "            temp = temp.dropna()\n",
    "            temp= temp.reset_index(drop=True)\n",
    "\n",
    "            if c1 == c2:\n",
    "                temp = pd.DataFrame(temp)\n",
    "                temp.columns= [f'{c1}']\n",
    "                if df.empty:\n",
    "                    df = temp\n",
    "                else:\n",
    "                    df = df.join(temp)\n",
    "            else:\n",
    "                if between_temp.empty:\n",
    "                    between_temp =temp\n",
    "                else:\n",
    "                    between_temp =between_temp + temp\n",
    "                    n = n + 1\n",
    "\n",
    "    between = pd.DataFrame(between_temp/n)\n",
    "    between.columns = ['between']\n",
    "    df = df.join(between)\n",
    "\n",
    "\n",
    "    #df = df.sub(between,axis=0)\n",
    "    return df #,loc_df,exp_df, row_mean\n"
   ]
  },
  {
   "cell_type": "markdown",
   "metadata": {},
   "source": [
    "Start analysis loop"
   ]
  },
  {
   "cell_type": "markdown",
   "metadata": {},
   "source": [
    "Parmaters for the current analysis"
   ]
  },
  {
   "cell_type": "code",
   "execution_count": null,
   "metadata": {},
   "outputs": [],
   "source": [
    "exp ='spaceloc'\n",
    "subj_list=[\"docnet1001\", \"docnet1002\"] #subs to analyze\n",
    "suf = [\"_odd\", \"_even\", \"_all\"] #runs to pull ROIs from\n",
    "rois=[\"V3ab\", \"PPC\", \"APC\", \"V4\", \"LO\", \"PFS\"] #Rois\n",
    "loc_cope=[1, 1, 1, 2, 2, 2] #copes for localizer runs; corresponding numerically to each roi\n",
    "exp_cope=[8, 9, 10, 11] #experimental copes to test in each ROI\n",
    "\n",
    "bin_size=100\n",
    "max_bins = 1000\n",
    "cond=[\"SA\", \"FT\", \"SS\", \"SF\"]\n",
    "cond_name =  [\"Space\", \"Feature\", \"Scrambled_Space\", \"Scrambled_Feature\"]\n",
    "mvpa_cond = [\"SA\", \"FT\"]\n",
    "mvpa_cond_name = [\"Space\", \"Feature\", \"Between\"]\n",
    "\n",
    "bool_extract_data = False\n",
    "bool_calc_act = True\n",
    "bool_calc_mvpa = True\n",
    "roi_type = 'dist'\n",
    "\n",
    "data_dir = \"/lab_data/behrmannlab/vlad/docnet\""
   ]
  },
  {
   "cell_type": "code",
   "execution_count": null,
   "metadata": {},
   "outputs": [],
   "source": [
    "for ss in subj_list:\n",
    "    sub_dir = f\"{data_dir}/sub-{ss}/ses-01/derivatives\"\n",
    "    results_dir = f'{sub_dir}/beta/selectivity'\n",
    "       \n",
    "    #if os.path.exists(results_dir):\n",
    "    #    shutil.rmtree(results_dir)\n",
    "    \n",
    "    os.makedirs(results_dir,exist_ok = True) \n",
    "    \n",
    "\n",
    "    for rr in range(0,len(rois)): #loop across rois\n",
    "        for lr in ['l','r']: #loop across left and right hemispheres\n",
    "            odd_roi = f'{sub_dir}/rois/{lr}{rois[rr]}_odd.nii.gz'\n",
    "            even_roi = f'{sub_dir}/rois/{lr}{rois[rr]}_even.nii.gz'\n",
    "            \n",
    "            #check if odd and even roi exist\n",
    "            if os.path.exists(odd_roi) and os.path.exists(even_roi):            \n",
    "                print(ss, lr,rois[rr],bin_size)\n",
    "                \n",
    "                if bool_extract_data:\n",
    "                    extract_data(sub_dir, results_dir, lr, rr)\n",
    "                # Sort and combine split runs\n",
    "                \n",
    "                if bool_calc_act:\n",
    "                    df = calc_selectivity(lr, rr, bin_size)\n",
    "                    if len(df) > max_bins: \n",
    "                        df = df.head(max_bins)\n",
    "                    plot_data(df,cond,cond_name,'Parameter Estimate',f'selectivity_{roi_type}_{max_bins}')\n",
    "\n",
    "                if bool_calc_mvpa:\n",
    "                    df = calc_mvpa(lr, rr, bin_size)\n",
    "                    if len(df) > max_bins: \n",
    "                        df = df.head(max_bins)\n",
    "\n",
    "                    plot_data(df,mvpa_cond + ['between'],mvpa_cond_name,'Correlation',f'mvpa_{roi_type}_{max_bins}')\n"
   ]
  },
  {
   "cell_type": "code",
   "execution_count": 27,
   "metadata": {},
   "outputs": [
    {
     "data": {
      "image/png": "[encoded data removed]",
      "text/plain": [
       "<Figure size 432x288 with 1 Axes>"
      ]
     },
     "metadata": {
      "needs_background": "light"
     },
     "output_type": "display_data"
    }
   ],
   "source": [
    "ss=\"docnet1002\"\n",
    "sub_dir = f\"{data_dir}/sub-{ss}/ses-01/derivatives\"\n",
    "results_dir = f'{sub_dir}/beta/selectivity'\n",
    "roi_type = 'dist'\n",
    "lr=\"r\"\n",
    "rr=1\n",
    "#df, odd, exp_df, row_mean = calc_mvpa(lr, rr, bin_size)\n",
    "df, odd,even = calc_selectivity(lr, rr, bin_size)\n",
    "plot_data(df,cond,cond_name,'PE','test')\n"
   ]
  },
  {
   "cell_type": "code",
   "execution_count": null,
   "metadata": {},
   "outputs": [],
   "source": [
    "row_mean=loc_df.iloc[:,4:loc_df.shape[1]].mean(axis=1)"
   ]
  },
  {
   "cell_type": "code",
   "execution_count": null,
   "metadata": {},
   "outputs": [],
   "source": [
    "test=loc_df[[\"SA_odd\", \"SA_even\", \"FT_odd\", \"FT_even\"]].mean(axis=1)"
   ]
  },
  {
   "cell_type": "code",
   "execution_count": null,
   "metadata": {},
   "outputs": [],
   "source": []
  }
 ],
 "metadata": {
  "kernelspec": {
   "display_name": "Python [conda env:root] *",
   "language": "python",
   "name": "conda-root-py"
  },
  "language_info": {
   "codemirror_mode": {
    "name": "ipython",
    "version": 3
   },
   "file_extension": ".py",
   "mimetype": "text/x-python",
   "name": "python",
   "nbconvert_exporter": "python",
   "pygments_lexer": "ipython3",
   "version": "3.7.6"
  }
 },
 "nbformat": 4,
 "nbformat_minor": 4
}
