{
 "cells": [
  {
   "cell_type": "code",
   "execution_count": 52,
   "metadata": {},
   "outputs": [],
   "source": [
    "import numpy as np\n",
    "import pandas as pd\n",
    "import subprocess\n",
    "import os\n",
    "import shutil\n",
    "import warnings\n",
    "import matplotlib\n",
    "import matplotlib.pyplot as plt\n",
    "#%matplotlib inline\n",
    "warnings.filterwarnings('ignore')\n",
    "\n",
    "exp ='adaptation'\n",
    "subj_list=[\"docnet1001\", \"docnet1002\"] #subs to analyze\n",
    "loc_suf = [\"_all\"] #runs to pull ROIs from\n",
    "exp_suf = [\"\"]\n",
    "rois=[\"V3ab\", \"PPC\", \"APC\", \"V4\", \"LO\", \"PFS\"] #Rois\n",
    "loc_cope=[1, 1, 1, 2, 2, 2] #copes for localizer runs; corresponding numerically to each roi\n",
    "exp_cope=[1, 2, 3, 4, 5, 6] #experimental copes to test in each ROI\n",
    "\n",
    "bin_size=100\n",
    "cond=[\"AC\", \"AD\", \"AP\", \"RC\", \"RD\", \"RP\"]\n",
    "cond_name = [\"Adapt_Complete\", \"Adapt_Deleted\", \"Adapt_Perturbed\",\\\n",
    "             \"Release_Complete\", \"Release_Deleted\", \"Release_Perturbed\"]\n",
    "\n",
    "bool_extract_data = True\n",
    "bool_calc_act = True\n",
    "bool_calc_mvpa = False\n",
    "\n",
    "\n",
    "exp_dir = \"/lab_data/behrmannlab/vlad/docnet\""
   ]
  },
  {
   "cell_type": "markdown",
   "metadata": {},
   "source": [
    "Function to extract functional localizer data from each ROI and parameter estimate from each mask"
   ]
  },
  {
   "cell_type": "code",
   "execution_count": 53,
   "metadata": {},
   "outputs": [],
   "source": [
    "def extract_data(sub_dir, results_dir, lr, rr):\n",
    "    \n",
    "        roi_nifti = f'{sub_dir}/rois/{lr}{rois[rr]}{sf_loc}.nii.gz'\n",
    "        if os.path.exists(roi_nifti):\n",
    "\n",
    "            for sf_exp in exp_suf: #loop across the run types for the experimental copes\n",
    "                                \n",
    "                for ec in range(0,len(exp_cope)):\n",
    "                    cope_nifti = f\"{sub_dir}/fsl/{exp}/HighLevel{sf_exp}.gfeat/cope{exp_cope[ec]}.feat/stats/zstat1.nii.gz\"\n",
    "                    out = f'{results_dir}/{lr}{rois[rr]}{sf_loc}{sf_exp}_{cond[ec]}'\n",
    "                    #extract_data(roi_nifti, cope_nifti, f'{results_dir}/{lr}{rois[rr]}{sf_loc}_localizer.nii.gz')\n",
    "\n",
    "                    bash_cmd  = f'fslmeants -i {cope_nifti} -m {roi_nifti} -o {out}.txt --showall --transpose'\n",
    "                    #print(bash_cmd)\n",
    "                    bash_out = subprocess.run(bash_cmd.split(),check=True, capture_output=True, text=True)\n",
    "                    #print(bash_out.stdout)\n"
   ]
  },
  {
   "cell_type": "markdown",
   "metadata": {},
   "source": [
    "Function to load localizer and test data, append, average together, and plot"
   ]
  },
  {
   "cell_type": "code",
   "execution_count": 58,
   "metadata": {},
   "outputs": [],
   "source": [
    "def calc_activation(lr, rr, bin_size):\n",
    "\n",
    "    #define and read localzier files\n",
    "    loc_file = f'{roi_dir}/data/{lr}{rois[rr]}{sf_loc}.txt'\n",
    "\n",
    "    loc_df = pd.read_csv(loc_file, sep=\"  \", header=None, names = [\"x\", \"y\", \"z\", \"loc\"])\n",
    "\n",
    "    for sf_exp in exp_suf: #loop across experimental types\n",
    "        for cc in cond:\n",
    "            #define exp file\n",
    "            exp_file = f'{results_dir}/{lr}{rois[rr]}{sf_loc}{sf_exp}_{cc}.txt'\n",
    "\n",
    "            #load each file\n",
    "            exp_df = pd.read_csv(exp_file, sep=\"  \", header=None, names = [\"x\", \"y\", \"z\", cc])\n",
    "\n",
    "            #Append it to the localizer data\n",
    "            loc_df = loc_df.join(exp_df[cc])\n",
    "\n",
    "\n",
    "        #sort file by localizer functional value (high to low)\n",
    "        loc_df = loc_df.sort_values(by =['loc'], ascending=False)\n",
    "\n",
    "        #subsample dfs using a rolling average\n",
    "        loc_df = loc_df.rolling(bin_size, win_type='triang').mean()\n",
    "        loc_df = loc_df.dropna()\n",
    "\n",
    "        #Reset the index on both\n",
    "        loc_df= loc_df.reset_index(drop=True)\n",
    "\n",
    "        return loc_df\n"
   ]
  },
  {
   "cell_type": "markdown",
   "metadata": {},
   "source": [
    "Calculate within- between- Haxby-style MVPA"
   ]
  },
  {
   "cell_type": "code",
   "execution_count": 55,
   "metadata": {},
   "outputs": [],
   "source": [
    "def calc_mvpa(lr, rr, bin_size):\n",
    "    #define and read localzier files\n",
    "    loc_file = f'{results_dir}/{lr}{rois[rr]}_all_localizer.txt'\n",
    "\n",
    "    loc_df = pd.read_csv(loc_file, sep=\"  \", header=None, names = [\"x\", \"y\", \"z\", \"loc\"])\n",
    "\n",
    "    for cc in cond:\n",
    "        #define  odd and even exp file\n",
    "        #note that it should be pulled from the opposite test runs (from even ROI pull odd data)\n",
    "        #all naming convetions are relative to the ROI that data are being pulled\n",
    "        #odd_exp_file is even data pulled from *odd* run ROI\n",
    "        odd_exp_file = f'{results_dir}/{lr}{rois[rr]}_all_even_{cc}.txt'\n",
    "        even_exp_file = f'{results_dir}/{lr}{rois[rr]}_all_odd_{cc}.txt'\n",
    "\n",
    "        #load each file and append localizer functional value\n",
    "        odd_exp = pd.read_csv(odd_exp_file, sep=\"  \", header=None, names = [\"x\", \"y\", \"z\", f'{cc}_odd'])\n",
    "        even_exp = pd.read_csv(even_exp_file, sep=\"  \", header=None, names = [\"x\", \"y\", \"z\", f'{cc}_even'])\n",
    "\n",
    "        loc_df = loc_df.join([odd_exp[cc + \"_odd\"],even_exp[cc+\"_even\"]])\n",
    "        #sort  by localizer value\n",
    "        loc_df = loc_df.sort_values(by =['loc'], ascending=False)\n",
    "        loc_df= loc_df.reset_index(drop=True)\n",
    "\n",
    "        #demean columns by condition\n",
    "        row_mean=loc_df.iloc[:,4:loc_df.shape[1]].mean(axis=1)\n",
    "        #loc_df.iloc[:,4:loc_df.shape[1]] =loc_df.iloc[:,4:loc_df.shape[1]].sub(row_mean,axis=0)\n",
    "        #test =loc_df.iloc[:,4:loc_df.shape[1]].sub(row_mean,axis=0)\n",
    "\n",
    "    #Start within-between analysis\n",
    "    n = 1\n",
    "    df = pd.DataFrame()\n",
    "    between_temp = pd.DataFrame() \n",
    "    for c1 in cond:\n",
    "        for c2 in cond:\n",
    "\n",
    "            temp_x = loc_df[f'{c1}_odd']\n",
    "            temp_y = loc_df[f'{c2}_even']\n",
    "            temp = temp_x.rolling(bin_size).corr(temp_y)\n",
    "            temp = temp.dropna()\n",
    "            temp= temp.reset_index(drop=True)\n",
    "\n",
    "            if c1 == c2:\n",
    "                temp = pd.DataFrame(temp)\n",
    "                temp.columns= [f'{c1}']\n",
    "                if df.empty:\n",
    "                    df = temp\n",
    "                else:\n",
    "                    df = df.join(temp)\n",
    "            else:\n",
    "                if between_temp.empty:\n",
    "                    between_temp =temp\n",
    "                else:\n",
    "                    between_temp =between_temp + temp\n",
    "                    n = n + 1\n",
    "\n",
    "    between = pd.DataFrame(between_temp/n)\n",
    "    between.columns = ['between']\n",
    "    df = df.join(between)\n",
    "\n",
    "\n",
    "    #df = df.sub(between,axis=0)\n",
    "    return df\n"
   ]
  },
  {
   "cell_type": "markdown",
   "metadata": {},
   "source": [
    "Make VSF plots"
   ]
  },
  {
   "cell_type": "code",
   "execution_count": 61,
   "metadata": {},
   "outputs": [],
   "source": [
    "def plot_data(df, cond, cond_name, y_ax,suf):\n",
    "    df = df[cond]\n",
    "    df.columns = cond_name\n",
    "    ax = df.plot.line()\n",
    "    ax.set_xlabel(\"Number of Voxels\")\n",
    "    ax.set_ylabel(y_ax)\n",
    "    plt.title(f'{lr}{rois[rr]}')\n",
    "    plt.legend(bbox_to_anchor=(1.05, 1.0), loc='upper left')\n",
    "    plt.tight_layout()\n",
    "    plt.savefig(f'{sub_dir}/results/{lr}{rois[rr]}_{suf}.png',bbox_inches='tight')\n",
    "    plt.close()"
   ]
  },
  {
   "cell_type": "markdown",
   "metadata": {},
   "source": [
    "Start analysis loop"
   ]
  },
  {
   "cell_type": "code",
   "execution_count": 63,
   "metadata": {},
   "outputs": [
    {
     "name": "stdout",
     "output_type": "stream",
     "text": [
      "docnet1001 l V3ab 100\n",
      "docnet1001 r V3ab 100\n",
      "docnet1001 l PPC 100\n",
      "docnet1001 r PPC 100\n",
      "docnet1001 l APC 100\n",
      "docnet1001 r APC 100\n",
      "docnet1001 l V4 100\n",
      "docnet1001 r V4 100\n",
      "docnet1001 l LO 100\n",
      "docnet1001 r LO 100\n",
      "docnet1001 l PFS 100\n",
      "docnet1001 r PFS 100\n",
      "docnet1002 l V3ab 100\n",
      "docnet1002 r V3ab 100\n",
      "docnet1002 l PPC 100\n",
      "docnet1002 r PPC 100\n",
      "docnet1002 l APC 100\n"
     ]
    },
    {
     "ename": "KeyboardInterrupt",
     "evalue": "",
     "output_type": "error",
     "traceback": [
      "\u001b[0;31m---------------------------------------------------------------------------\u001b[0m",
      "\u001b[0;31mKeyboardInterrupt\u001b[0m                         Traceback (most recent call last)",
      "\u001b[0;32m<ipython-input-63-76d8f5fb55d1>\u001b[0m in \u001b[0;36m<module>\u001b[0;34m\u001b[0m\n\u001b[1;32m     20\u001b[0m \u001b[0;34m\u001b[0m\u001b[0m\n\u001b[1;32m     21\u001b[0m                     \u001b[0;32mif\u001b[0m \u001b[0mbool_extract_data\u001b[0m \u001b[0;34m==\u001b[0m \u001b[0;32mTrue\u001b[0m\u001b[0;34m:\u001b[0m\u001b[0;34m\u001b[0m\u001b[0;34m\u001b[0m\u001b[0m\n\u001b[0;32m---> 22\u001b[0;31m                         \u001b[0mextract_data\u001b[0m\u001b[0;34m(\u001b[0m\u001b[0msub_dir\u001b[0m\u001b[0;34m,\u001b[0m \u001b[0mresults_dir\u001b[0m\u001b[0;34m,\u001b[0m \u001b[0mlr\u001b[0m\u001b[0;34m,\u001b[0m \u001b[0mrr\u001b[0m\u001b[0;34m)\u001b[0m\u001b[0;34m\u001b[0m\u001b[0;34m\u001b[0m\u001b[0m\n\u001b[0m\u001b[1;32m     23\u001b[0m \u001b[0;34m\u001b[0m\u001b[0m\n\u001b[1;32m     24\u001b[0m                     \u001b[0;32mif\u001b[0m \u001b[0mbool_calc_act\u001b[0m \u001b[0;34m==\u001b[0m \u001b[0;32mTrue\u001b[0m\u001b[0;34m:\u001b[0m\u001b[0;34m\u001b[0m\u001b[0;34m\u001b[0m\u001b[0m\n",
      "\u001b[0;32m<ipython-input-53-6bc151446cd5>\u001b[0m in \u001b[0;36mextract_data\u001b[0;34m(sub_dir, results_dir, lr, rr)\u001b[0m\n\u001b[1;32m     13\u001b[0m                     \u001b[0mbash_cmd\u001b[0m  \u001b[0;34m=\u001b[0m \u001b[0;34mf'fslmeants -i {cope_nifti} -m {roi_nifti} -o {out}.txt --showall --transpose'\u001b[0m\u001b[0;34m\u001b[0m\u001b[0;34m\u001b[0m\u001b[0m\n\u001b[1;32m     14\u001b[0m                     \u001b[0;31m#print(bash_cmd)\u001b[0m\u001b[0;34m\u001b[0m\u001b[0;34m\u001b[0m\u001b[0;34m\u001b[0m\u001b[0m\n\u001b[0;32m---> 15\u001b[0;31m                     \u001b[0mbash_out\u001b[0m \u001b[0;34m=\u001b[0m \u001b[0msubprocess\u001b[0m\u001b[0;34m.\u001b[0m\u001b[0mrun\u001b[0m\u001b[0;34m(\u001b[0m\u001b[0mbash_cmd\u001b[0m\u001b[0;34m.\u001b[0m\u001b[0msplit\u001b[0m\u001b[0;34m(\u001b[0m\u001b[0;34m)\u001b[0m\u001b[0;34m,\u001b[0m\u001b[0mcheck\u001b[0m\u001b[0;34m=\u001b[0m\u001b[0;32mTrue\u001b[0m\u001b[0;34m,\u001b[0m \u001b[0mcapture_output\u001b[0m\u001b[0;34m=\u001b[0m\u001b[0;32mTrue\u001b[0m\u001b[0;34m,\u001b[0m \u001b[0mtext\u001b[0m\u001b[0;34m=\u001b[0m\u001b[0;32mTrue\u001b[0m\u001b[0;34m)\u001b[0m\u001b[0;34m\u001b[0m\u001b[0;34m\u001b[0m\u001b[0m\n\u001b[0m\u001b[1;32m     16\u001b[0m                     \u001b[0;31m#print(bash_out.stdout)\u001b[0m\u001b[0;34m\u001b[0m\u001b[0;34m\u001b[0m\u001b[0;34m\u001b[0m\u001b[0m\n",
      "\u001b[0;32m~/anaconda3/lib/python3.7/subprocess.py\u001b[0m in \u001b[0;36mrun\u001b[0;34m(input, capture_output, timeout, check, *popenargs, **kwargs)\u001b[0m\n\u001b[1;32m    488\u001b[0m     \u001b[0;32mwith\u001b[0m \u001b[0mPopen\u001b[0m\u001b[0;34m(\u001b[0m\u001b[0;34m*\u001b[0m\u001b[0mpopenargs\u001b[0m\u001b[0;34m,\u001b[0m \u001b[0;34m**\u001b[0m\u001b[0mkwargs\u001b[0m\u001b[0;34m)\u001b[0m \u001b[0;32mas\u001b[0m \u001b[0mprocess\u001b[0m\u001b[0;34m:\u001b[0m\u001b[0;34m\u001b[0m\u001b[0;34m\u001b[0m\u001b[0m\n\u001b[1;32m    489\u001b[0m         \u001b[0;32mtry\u001b[0m\u001b[0;34m:\u001b[0m\u001b[0;34m\u001b[0m\u001b[0;34m\u001b[0m\u001b[0m\n\u001b[0;32m--> 490\u001b[0;31m             \u001b[0mstdout\u001b[0m\u001b[0;34m,\u001b[0m \u001b[0mstderr\u001b[0m \u001b[0;34m=\u001b[0m \u001b[0mprocess\u001b[0m\u001b[0;34m.\u001b[0m\u001b[0mcommunicate\u001b[0m\u001b[0;34m(\u001b[0m\u001b[0minput\u001b[0m\u001b[0;34m,\u001b[0m \u001b[0mtimeout\u001b[0m\u001b[0;34m=\u001b[0m\u001b[0mtimeout\u001b[0m\u001b[0;34m)\u001b[0m\u001b[0;34m\u001b[0m\u001b[0;34m\u001b[0m\u001b[0m\n\u001b[0m\u001b[1;32m    491\u001b[0m         \u001b[0;32mexcept\u001b[0m \u001b[0mTimeoutExpired\u001b[0m \u001b[0;32mas\u001b[0m \u001b[0mexc\u001b[0m\u001b[0;34m:\u001b[0m\u001b[0;34m\u001b[0m\u001b[0;34m\u001b[0m\u001b[0m\n\u001b[1;32m    492\u001b[0m             \u001b[0mprocess\u001b[0m\u001b[0;34m.\u001b[0m\u001b[0mkill\u001b[0m\u001b[0;34m(\u001b[0m\u001b[0;34m)\u001b[0m\u001b[0;34m\u001b[0m\u001b[0;34m\u001b[0m\u001b[0m\n",
      "\u001b[0;32m~/anaconda3/lib/python3.7/subprocess.py\u001b[0m in \u001b[0;36mcommunicate\u001b[0;34m(self, input, timeout)\u001b[0m\n\u001b[1;32m    962\u001b[0m \u001b[0;34m\u001b[0m\u001b[0m\n\u001b[1;32m    963\u001b[0m             \u001b[0;32mtry\u001b[0m\u001b[0;34m:\u001b[0m\u001b[0;34m\u001b[0m\u001b[0;34m\u001b[0m\u001b[0m\n\u001b[0;32m--> 964\u001b[0;31m                 \u001b[0mstdout\u001b[0m\u001b[0;34m,\u001b[0m \u001b[0mstderr\u001b[0m \u001b[0;34m=\u001b[0m \u001b[0mself\u001b[0m\u001b[0;34m.\u001b[0m\u001b[0m_communicate\u001b[0m\u001b[0;34m(\u001b[0m\u001b[0minput\u001b[0m\u001b[0;34m,\u001b[0m \u001b[0mendtime\u001b[0m\u001b[0;34m,\u001b[0m \u001b[0mtimeout\u001b[0m\u001b[0;34m)\u001b[0m\u001b[0;34m\u001b[0m\u001b[0;34m\u001b[0m\u001b[0m\n\u001b[0m\u001b[1;32m    965\u001b[0m             \u001b[0;32mexcept\u001b[0m \u001b[0mKeyboardInterrupt\u001b[0m\u001b[0;34m:\u001b[0m\u001b[0;34m\u001b[0m\u001b[0;34m\u001b[0m\u001b[0m\n\u001b[1;32m    966\u001b[0m                 \u001b[0;31m# https://bugs.python.org/issue25942\u001b[0m\u001b[0;34m\u001b[0m\u001b[0;34m\u001b[0m\u001b[0;34m\u001b[0m\u001b[0m\n",
      "\u001b[0;32m~/anaconda3/lib/python3.7/subprocess.py\u001b[0m in \u001b[0;36m_communicate\u001b[0;34m(self, input, endtime, orig_timeout)\u001b[0m\n\u001b[1;32m   1713\u001b[0m                             'failed to raise TimeoutExpired.')\n\u001b[1;32m   1714\u001b[0m \u001b[0;34m\u001b[0m\u001b[0m\n\u001b[0;32m-> 1715\u001b[0;31m                     \u001b[0mready\u001b[0m \u001b[0;34m=\u001b[0m \u001b[0mselector\u001b[0m\u001b[0;34m.\u001b[0m\u001b[0mselect\u001b[0m\u001b[0;34m(\u001b[0m\u001b[0mtimeout\u001b[0m\u001b[0;34m)\u001b[0m\u001b[0;34m\u001b[0m\u001b[0;34m\u001b[0m\u001b[0m\n\u001b[0m\u001b[1;32m   1716\u001b[0m                     \u001b[0mself\u001b[0m\u001b[0;34m.\u001b[0m\u001b[0m_check_timeout\u001b[0m\u001b[0;34m(\u001b[0m\u001b[0mendtime\u001b[0m\u001b[0;34m,\u001b[0m \u001b[0morig_timeout\u001b[0m\u001b[0;34m,\u001b[0m \u001b[0mstdout\u001b[0m\u001b[0;34m,\u001b[0m \u001b[0mstderr\u001b[0m\u001b[0;34m)\u001b[0m\u001b[0;34m\u001b[0m\u001b[0;34m\u001b[0m\u001b[0m\n\u001b[1;32m   1717\u001b[0m \u001b[0;34m\u001b[0m\u001b[0m\n",
      "\u001b[0;32m~/anaconda3/lib/python3.7/selectors.py\u001b[0m in \u001b[0;36mselect\u001b[0;34m(self, timeout)\u001b[0m\n\u001b[1;32m    413\u001b[0m         \u001b[0mready\u001b[0m \u001b[0;34m=\u001b[0m \u001b[0;34m[\u001b[0m\u001b[0;34m]\u001b[0m\u001b[0;34m\u001b[0m\u001b[0;34m\u001b[0m\u001b[0m\n\u001b[1;32m    414\u001b[0m         \u001b[0;32mtry\u001b[0m\u001b[0;34m:\u001b[0m\u001b[0;34m\u001b[0m\u001b[0;34m\u001b[0m\u001b[0m\n\u001b[0;32m--> 415\u001b[0;31m             \u001b[0mfd_event_list\u001b[0m \u001b[0;34m=\u001b[0m \u001b[0mself\u001b[0m\u001b[0;34m.\u001b[0m\u001b[0m_selector\u001b[0m\u001b[0;34m.\u001b[0m\u001b[0mpoll\u001b[0m\u001b[0;34m(\u001b[0m\u001b[0mtimeout\u001b[0m\u001b[0;34m)\u001b[0m\u001b[0;34m\u001b[0m\u001b[0;34m\u001b[0m\u001b[0m\n\u001b[0m\u001b[1;32m    416\u001b[0m         \u001b[0;32mexcept\u001b[0m \u001b[0mInterruptedError\u001b[0m\u001b[0;34m:\u001b[0m\u001b[0;34m\u001b[0m\u001b[0;34m\u001b[0m\u001b[0m\n\u001b[1;32m    417\u001b[0m             \u001b[0;32mreturn\u001b[0m \u001b[0mready\u001b[0m\u001b[0;34m\u001b[0m\u001b[0;34m\u001b[0m\u001b[0m\n",
      "\u001b[0;31mKeyboardInterrupt\u001b[0m: "
     ]
    }
   ],
   "source": [
    "for ss in subj_list:\n",
    "    sub_dir = f\"{exp_dir}/sub-{ss}/ses-01/derivatives\"\n",
    "    results_dir = f'{sub_dir}/beta/adaptation'\n",
    "    roi_dir= f'{sub_dir}/rois'\n",
    "       \n",
    "    if os.path.exists(results_dir):\n",
    "        shutil.rmtree(results_dir)\n",
    "    \n",
    "    os.makedirs(results_dir) \n",
    "    \n",
    "\n",
    "    for rr in range(0,len(rois)): #loop across rois\n",
    "        for lr in ['l','r']: #loop across left and right hemispheres\n",
    "            for sf_loc in loc_suf: #loop across run type for the masks\n",
    "                roi_file = f'{sub_dir}/rois/{lr}{rois[rr]}{sf_loc}.nii.gz'\n",
    "\n",
    "                #check if odd and even roi exist\n",
    "                if os.path.exists(roi_file):            \n",
    "                    print(ss, lr,rois[rr],bin_size)\n",
    "\n",
    "                    if bool_extract_data == True:\n",
    "                        extract_data(sub_dir, results_dir, lr, rr)\n",
    "\n",
    "                    if bool_calc_act == True:\n",
    "                        # Sort and combine split runs                \n",
    "                        df = calc_activation(lr, rr, bin_size)\n",
    "\n",
    "                        if len(df) > 2500: \n",
    "                            df = df.head(2500)\n",
    "                        plot_data(df, cond, cond_name, 'Beta','adapt')\n",
    "\n",
    "                    if bool_calc_mvpa == True:\n",
    "                        df = calc_mvpa(lr, rr, bin_size)\n",
    "                        if len(df) > 2500: \n",
    "                            df = df.head(2500)\n",
    "\n",
    "                        plot_data(df,cond + ['between'],cond_name + ['Between'],'Correlation','mvpa')\n"
   ]
  },
  {
   "cell_type": "code",
   "execution_count": 33,
   "metadata": {},
   "outputs": [],
   "source": [
    "ss=\"docnet1001\"\n",
    "sub_dir = f\"{exp_dir}/sub-{ss}/ses-01/derivatives\"\n",
    "results_dir = f'{sub_dir}/beta/adaptation'\n",
    "roi_dir= f'{sub_dir}/rois'\n",
    "\n",
    "lr=\"r\"\n",
    "rr=2\n",
    "#extract_data(sub_dir, results_dir, lr, rr)\n",
    "\n",
    "df = calc_activation(lr, rr, bin_size)"
   ]
  }
 ],
 "metadata": {
  "kernelspec": {
   "display_name": "Python [conda env:root] *",
   "language": "python",
   "name": "conda-root-py"
  },
  "language_info": {
   "codemirror_mode": {
    "name": "ipython",
    "version": 3
   },
   "file_extension": ".py",
   "mimetype": "text/x-python",
   "name": "python",
   "nbconvert_exporter": "python",
   "pygments_lexer": "ipython3",
   "version": "3.7.6"
  }
 },
 "nbformat": 4,
 "nbformat_minor": 4
}
