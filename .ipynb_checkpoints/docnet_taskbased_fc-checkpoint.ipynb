{
 "cells": [
  {
   "cell_type": "code",
   "execution_count": 1,
   "id": "61621104-f46b-494d-beaf-ba19fe7b2954",
   "metadata": {},
   "outputs": [],
   "source": [
    "import pandas as pd\n",
    "import numpy as np\n",
    "import matplotlib.pyplot as plt\n",
    "import matplotlib.pylab as pl\n",
    "from scipy import stats\n",
    "from glob import glob\n",
    "import pdb\n",
    "import os\n",
    "import subprocess\n",
    "#from sklearn.model_selection import ShuffleSplit\n",
    "#from sklearn.linear_model import Ridge\n",
    "#from sklearn.preprocessing import MinMaxScaler\n"
   ]
  },
  {
   "cell_type": "code",
   "execution_count": 5,
   "id": "40d7bb80-ac99-4af3-985c-84a9ecd1e793",
   "metadata": {},
   "outputs": [],
   "source": [
    "subj_list=[\"2005\"]\n",
    "exp = \"docnet\"\n",
    "task=[\"cattask\"]\n",
    "suf=\"\"\n",
    "rois = [\"LO_toolloc\", 'PFS_toolloc', 'PPC_spaceloc', 'APC_spaceloc']\n",
    "cov = ['cattask']\n",
    "cov_cond = ['cat', 'ident']\n",
    "\n",
    "#rois = [\"LO_toolloc\"]\n",
    "\n",
    "exp_dir=f\"/lab_data/behrmannlab/vlad/{exp}\"\n",
    "shift_tr = 2 # how many seconds to shift the cov window to capture the full response\n"
   ]
  },
  {
   "cell_type": "code",
   "execution_count": 7,
   "id": "2ce1789a-5dd4-4abc-8c46-c85bc4225863",
   "metadata": {},
   "outputs": [],
   "source": [
    "def extract_cov_indices(cov_cond, run_num):\n",
    "    cond_ind = [[] for _ in range(0,len(cov_cond))]\n",
    "\n",
    "    #Extract covs for those runs\n",
    "    for cvn, cv in enumerate(cov_cond):\n",
    "        #Load cov\n",
    "        curr_cov = np.round(np.loadtxt(f'{cov_dir}/{cov[cn]}_{exp}{ss}_run{run_num}_{cv}.txt', delimiter =\"\\t\"),0)\n",
    "\n",
    "        #create indices from cov\n",
    "        for crn, crc in enumerate(curr_cov[:,0]):\n",
    "            #Create a nested list where each nested list contains the index of volumes for each condiction of a task\n",
    "            onset = int(crc+shift_tr)\n",
    "            cond_ind[cvn] = cond_ind[cvn] + list(range(onset, int(onset+curr_cov[crn,1])))\n",
    "            \n",
    "    return cond_ind\n"
   ]
  },
  {
   "cell_type": "code",
   "execution_count": 10,
   "id": "1e9ff475-8bdf-4ef5-bdf9-6902805465d1",
   "metadata": {},
   "outputs": [
    {
     "name": "stdout",
     "output_type": "stream",
     "text": [
      "/lab_data/behrmannlab/vlad/docnet/sub-docnet2005/ses-02/derivatives/fsl/cattask/run-03/\n",
      "/lab_data/behrmannlab/vlad/docnet/sub-docnet2005/ses-02/derivatives/fsl/cattask/run-03//1stLevel.feat/rois/lLO_toolloc_peak.nii.gz\n"
     ]
    },
    {
     "ename": "NameError",
     "evalue": "name 'subprocess' is not defined",
     "output_type": "error",
     "traceback": [
      "\u001b[0;31m---------------------------------------------------------------------------\u001b[0m",
      "\u001b[0;31mNameError\u001b[0m                                 Traceback (most recent call last)",
      "\u001b[0;32m<ipython-input-10-25ec79cb165b>\u001b[0m in \u001b[0;36m<module>\u001b[0;34m\u001b[0m\n\u001b[1;32m     23\u001b[0m                     \u001b[0;32mif\u001b[0m \u001b[0mos\u001b[0m\u001b[0;34m.\u001b[0m\u001b[0mpath\u001b[0m\u001b[0;34m.\u001b[0m\u001b[0mexists\u001b[0m\u001b[0;34m(\u001b[0m\u001b[0mroi_nifti\u001b[0m\u001b[0;34m)\u001b[0m\u001b[0;34m:\u001b[0m\u001b[0;34m\u001b[0m\u001b[0;34m\u001b[0m\u001b[0m\n\u001b[1;32m     24\u001b[0m                         \u001b[0mbash_cmd\u001b[0m \u001b[0;34m=\u001b[0m \u001b[0;34mf'fslmeants -i {filtered_func} -o {out_dir}/{cc}_run-0{rn+1}_{lr}{roi}_timecourse.txt -m {roi_nifti}'\u001b[0m\u001b[0;34m\u001b[0m\u001b[0;34m\u001b[0m\u001b[0m\n\u001b[0;32m---> 25\u001b[0;31m                         \u001b[0msubprocess\u001b[0m\u001b[0;34m.\u001b[0m\u001b[0mrun\u001b[0m\u001b[0;34m(\u001b[0m\u001b[0mbash_cmd\u001b[0m\u001b[0;34m.\u001b[0m\u001b[0msplit\u001b[0m\u001b[0;34m(\u001b[0m\u001b[0;34m)\u001b[0m\u001b[0;34m,\u001b[0m \u001b[0mcheck\u001b[0m\u001b[0;34m=\u001b[0m\u001b[0;32mTrue\u001b[0m\u001b[0;34m)\u001b[0m\u001b[0;34m\u001b[0m\u001b[0;34m\u001b[0m\u001b[0m\n\u001b[0m\u001b[1;32m     26\u001b[0m                         \u001b[0;31m#bash_out = subprocess.run(bash_cmd.split(),check=True, capture_output=True, text=True)\u001b[0m\u001b[0;34m\u001b[0m\u001b[0;34m\u001b[0m\u001b[0;34m\u001b[0m\u001b[0m\n\u001b[1;32m     27\u001b[0m \u001b[0;34m\u001b[0m\u001b[0m\n",
      "\u001b[0;31mNameError\u001b[0m: name 'subprocess' is not defined"
     ]
    }
   ],
   "source": [
    "'''\n",
    "Extract timecourse from each roi\n",
    "'''\n",
    "\n",
    "for ss in subj_list:\n",
    "    #grab  functional image in each sub dir\n",
    "    sub_dir = f\"{exp_dir}/sub-{exp}{ss}/ses-02/derivatives\"\n",
    "    os.makedirs(f'{sub_dir}/results/timeseries', exist_ok=True)\n",
    "    out_dir= f'{sub_dir}/results/timeseries'\n",
    "    \n",
    "    for cc in task:\n",
    "        task_dir = f\"{sub_dir}/fsl/{cc}\"\n",
    "        runs = glob(f'{task_dir}/run-0*/')\n",
    "    \n",
    "        for rn, rr in enumerate(runs):\n",
    "            filtered_func = f'{rr}1stLevel{suf}.feat/filtered_func_data.nii.gz'\n",
    "            print(rr)\n",
    "            for roi in rois:\n",
    "                for lr in [\"l\", \"r\"]:\n",
    "                    \n",
    "                    roi_nifti = f'{rr}/1stLevel{suf}.feat/rois/{lr}{roi}_peak.nii.gz' #set roi\n",
    "                    print(roi_nifti)\n",
    "                    if os.path.exists(roi_nifti):\n",
    "                        bash_cmd = f'fslmeants -i {filtered_func} -o {out_dir}/{cc}_run-0{rn+1}_{lr}{roi}_timecourse.txt -m {roi_nifti}'\n",
    "                        subprocess.run(bash_cmd.split(), check=True)\n",
    "                        #bash_out = subprocess.run(bash_cmd.split(),check=True, capture_output=True, text=True)\n",
    "                        \n",
    "\n",
    "\n"
   ]
  },
  {
   "cell_type": "code",
   "execution_count": 8,
   "id": "12f73a36-341c-4c15-9a53-71b35e38488e",
   "metadata": {},
   "outputs": [
    {
     "name": "stdout",
     "output_type": "stream",
     "text": [
      "LO_toolloc\n"
     ]
    },
    {
     "ename": "OSError",
     "evalue": "/lab_data/behrmannlab/vlad/docnet/sub-docnet2005/ses-02/derivatives/results/timeseries/cattask_run-01_lLO_toolloc_timecourse.txt not found.",
     "output_type": "error",
     "traceback": [
      "\u001b[0;31m---------------------------------------------------------------------------\u001b[0m",
      "\u001b[0;31mOSError\u001b[0m                                   Traceback (most recent call last)",
      "\u001b[0;32m<ipython-input-8-c7856adad5b5>\u001b[0m in \u001b[0;36m<module>\u001b[0;34m\u001b[0m\n\u001b[1;32m     28\u001b[0m                             \u001b[0;32mfor\u001b[0m \u001b[0mrn\u001b[0m\u001b[0;34m,\u001b[0m \u001b[0mrr\u001b[0m \u001b[0;32min\u001b[0m \u001b[0menumerate\u001b[0m\u001b[0;34m(\u001b[0m\u001b[0mruns\u001b[0m\u001b[0;34m)\u001b[0m\u001b[0;34m:\u001b[0m\u001b[0;34m\u001b[0m\u001b[0;34m\u001b[0m\u001b[0m\n\u001b[1;32m     29\u001b[0m                                 \u001b[0mcond_ind\u001b[0m \u001b[0;34m=\u001b[0m \u001b[0mextract_cov_indices\u001b[0m\u001b[0;34m(\u001b[0m\u001b[0mcov_cond\u001b[0m\u001b[0;34m,\u001b[0m \u001b[0mrn\u001b[0m\u001b[0;34m+\u001b[0m\u001b[0;36m1\u001b[0m\u001b[0;34m)\u001b[0m\u001b[0;34m\u001b[0m\u001b[0;34m\u001b[0m\u001b[0m\n\u001b[0;32m---> 30\u001b[0;31m                                 \u001b[0mroi_ts1\u001b[0m \u001b[0;34m=\u001b[0m \u001b[0mnp\u001b[0m\u001b[0;34m.\u001b[0m\u001b[0mloadtxt\u001b[0m\u001b[0;34m(\u001b[0m\u001b[0;34mf'{ts_dir}/{cc}_run-0{rn+1}_{lr}{roi1}_timecourse.txt'\u001b[0m\u001b[0;34m)\u001b[0m\u001b[0;34m\u001b[0m\u001b[0;34m\u001b[0m\u001b[0m\n\u001b[0m\u001b[1;32m     31\u001b[0m                                 \u001b[0mroi_ts2\u001b[0m \u001b[0;34m=\u001b[0m \u001b[0mnp\u001b[0m\u001b[0;34m.\u001b[0m\u001b[0mloadtxt\u001b[0m\u001b[0;34m(\u001b[0m\u001b[0;34mf'{ts_dir}/{cc}_run-0{rn+1}_{lr}{roi2}_timecourse.txt'\u001b[0m\u001b[0;34m)\u001b[0m\u001b[0;34m\u001b[0m\u001b[0;34m\u001b[0m\u001b[0m\n\u001b[1;32m     32\u001b[0m \u001b[0;34m\u001b[0m\u001b[0m\n",
      "\u001b[0;32m~/anaconda3/lib/python3.7/site-packages/numpy/lib/npyio.py\u001b[0m in \u001b[0;36mloadtxt\u001b[0;34m(fname, dtype, comments, delimiter, converters, skiprows, usecols, unpack, ndmin, encoding, max_rows)\u001b[0m\n\u001b[1;32m    959\u001b[0m             \u001b[0mfname\u001b[0m \u001b[0;34m=\u001b[0m \u001b[0mos_fspath\u001b[0m\u001b[0;34m(\u001b[0m\u001b[0mfname\u001b[0m\u001b[0;34m)\u001b[0m\u001b[0;34m\u001b[0m\u001b[0;34m\u001b[0m\u001b[0m\n\u001b[1;32m    960\u001b[0m         \u001b[0;32mif\u001b[0m \u001b[0m_is_string_like\u001b[0m\u001b[0;34m(\u001b[0m\u001b[0mfname\u001b[0m\u001b[0;34m)\u001b[0m\u001b[0;34m:\u001b[0m\u001b[0;34m\u001b[0m\u001b[0;34m\u001b[0m\u001b[0m\n\u001b[0;32m--> 961\u001b[0;31m             \u001b[0mfh\u001b[0m \u001b[0;34m=\u001b[0m \u001b[0mnp\u001b[0m\u001b[0;34m.\u001b[0m\u001b[0mlib\u001b[0m\u001b[0;34m.\u001b[0m\u001b[0m_datasource\u001b[0m\u001b[0;34m.\u001b[0m\u001b[0mopen\u001b[0m\u001b[0;34m(\u001b[0m\u001b[0mfname\u001b[0m\u001b[0;34m,\u001b[0m \u001b[0;34m'rt'\u001b[0m\u001b[0;34m,\u001b[0m \u001b[0mencoding\u001b[0m\u001b[0;34m=\u001b[0m\u001b[0mencoding\u001b[0m\u001b[0;34m)\u001b[0m\u001b[0;34m\u001b[0m\u001b[0;34m\u001b[0m\u001b[0m\n\u001b[0m\u001b[1;32m    962\u001b[0m             \u001b[0mfencoding\u001b[0m \u001b[0;34m=\u001b[0m \u001b[0mgetattr\u001b[0m\u001b[0;34m(\u001b[0m\u001b[0mfh\u001b[0m\u001b[0;34m,\u001b[0m \u001b[0;34m'encoding'\u001b[0m\u001b[0;34m,\u001b[0m \u001b[0;34m'latin1'\u001b[0m\u001b[0;34m)\u001b[0m\u001b[0;34m\u001b[0m\u001b[0;34m\u001b[0m\u001b[0m\n\u001b[1;32m    963\u001b[0m             \u001b[0mfh\u001b[0m \u001b[0;34m=\u001b[0m \u001b[0miter\u001b[0m\u001b[0;34m(\u001b[0m\u001b[0mfh\u001b[0m\u001b[0;34m)\u001b[0m\u001b[0;34m\u001b[0m\u001b[0;34m\u001b[0m\u001b[0m\n",
      "\u001b[0;32m~/anaconda3/lib/python3.7/site-packages/numpy/lib/_datasource.py\u001b[0m in \u001b[0;36mopen\u001b[0;34m(path, mode, destpath, encoding, newline)\u001b[0m\n\u001b[1;32m    193\u001b[0m \u001b[0;34m\u001b[0m\u001b[0m\n\u001b[1;32m    194\u001b[0m     \u001b[0mds\u001b[0m \u001b[0;34m=\u001b[0m \u001b[0mDataSource\u001b[0m\u001b[0;34m(\u001b[0m\u001b[0mdestpath\u001b[0m\u001b[0;34m)\u001b[0m\u001b[0;34m\u001b[0m\u001b[0;34m\u001b[0m\u001b[0m\n\u001b[0;32m--> 195\u001b[0;31m     \u001b[0;32mreturn\u001b[0m \u001b[0mds\u001b[0m\u001b[0;34m.\u001b[0m\u001b[0mopen\u001b[0m\u001b[0;34m(\u001b[0m\u001b[0mpath\u001b[0m\u001b[0;34m,\u001b[0m \u001b[0mmode\u001b[0m\u001b[0;34m,\u001b[0m \u001b[0mencoding\u001b[0m\u001b[0;34m=\u001b[0m\u001b[0mencoding\u001b[0m\u001b[0;34m,\u001b[0m \u001b[0mnewline\u001b[0m\u001b[0;34m=\u001b[0m\u001b[0mnewline\u001b[0m\u001b[0;34m)\u001b[0m\u001b[0;34m\u001b[0m\u001b[0;34m\u001b[0m\u001b[0m\n\u001b[0m\u001b[1;32m    196\u001b[0m \u001b[0;34m\u001b[0m\u001b[0m\n\u001b[1;32m    197\u001b[0m \u001b[0;34m\u001b[0m\u001b[0m\n",
      "\u001b[0;32m~/anaconda3/lib/python3.7/site-packages/numpy/lib/_datasource.py\u001b[0m in \u001b[0;36mopen\u001b[0;34m(self, path, mode, encoding, newline)\u001b[0m\n\u001b[1;32m    533\u001b[0m                                       encoding=encoding, newline=newline)\n\u001b[1;32m    534\u001b[0m         \u001b[0;32melse\u001b[0m\u001b[0;34m:\u001b[0m\u001b[0;34m\u001b[0m\u001b[0;34m\u001b[0m\u001b[0m\n\u001b[0;32m--> 535\u001b[0;31m             \u001b[0;32mraise\u001b[0m \u001b[0mIOError\u001b[0m\u001b[0;34m(\u001b[0m\u001b[0;34m\"%s not found.\"\u001b[0m \u001b[0;34m%\u001b[0m \u001b[0mpath\u001b[0m\u001b[0;34m)\u001b[0m\u001b[0;34m\u001b[0m\u001b[0;34m\u001b[0m\u001b[0m\n\u001b[0m\u001b[1;32m    536\u001b[0m \u001b[0;34m\u001b[0m\u001b[0m\n\u001b[1;32m    537\u001b[0m \u001b[0;34m\u001b[0m\u001b[0m\n",
      "\u001b[0;31mOSError\u001b[0m: /lab_data/behrmannlab/vlad/docnet/sub-docnet2005/ses-02/derivatives/results/timeseries/cattask_run-01_lLO_toolloc_timecourse.txt not found."
     ]
    }
   ],
   "source": [
    "\n",
    "#for this subject\n",
    "for ss in subj_list:\n",
    "    sub_df = pd.DataFrame()\n",
    "    \n",
    "    sub_dir = f\"{exp_dir}/sub-{exp}{ss}/ses-02/derivatives\"\n",
    "    cov_dir = f\"{exp_dir}/sub-{exp}{ss}/ses-02/covs\"\n",
    "    ts_dir= f'{sub_dir}/results/timeseries'\n",
    "    roi_dir = f\"{sub_dir}/rois\"\n",
    "    \n",
    "    #for this task\n",
    "    for cn, cc in enumerate(task):\n",
    "        task_dir = f\"{sub_dir}/fsl/{cc}\"\n",
    "        runs = glob(f'{task_dir}/run-0*/')\n",
    "        \n",
    "        #select two rois (within hemi)\n",
    "        for lr in [\"l\", \"r\"]:# left/right\n",
    "            for roi1n, roi1 in enumerate(rois):\n",
    "                print(roi1)\n",
    "                #check if roi1 exists\n",
    "                if os.path.exists(f'{roi_dir}/{lr}{roi1}_peak.nii.gz'):\n",
    "                    \n",
    "                    for roi2 in rois[roi1n+1:]:\n",
    "                        #check if roi2 exists\n",
    "                        if os.path.exists(f'{roi_dir}/{lr}{roi2}_peak.nii.gz'):\n",
    "                            \n",
    "                            #extract covs and TS for each run\n",
    "                            cov_corr =  [[] for _ in range(0,len(cov_cond))]\n",
    "                            for rn, rr in enumerate(runs):\n",
    "                                cond_ind = extract_cov_indices(cov_cond, rn+1)\n",
    "                                roi_ts1 = np.loadtxt(f'{ts_dir}/{cc}_run-0{rn+1}_{lr}{roi1}_timecourse.txt')\n",
    "                                roi_ts2 = np.loadtxt(f'{ts_dir}/{cc}_run-0{rn+1}_{lr}{roi2}_timecourse.txt')\n",
    "                                \n",
    "                                #correlate each roi and \n",
    "                                for condn in range(0, len(cov_cond)):\n",
    "                                    corr_coef = np.corrcoef(roi_ts1[cond_ind[condn]], roi_ts2[cond_ind[condn]])\n",
    "                                    cov_corr[condn].append(corr_coef[0,1])\n",
    "                                    \n",
    "                            \n",
    "                            #add correlations to a dataframe\n",
    "                            for condn, curr_cond in enumerate(cov_cond):\n",
    "                                sub_df[f'{lr}{roi1}_{lr}{roi2}_{curr_cond}'] = pd.Series(cov_corr[condn])\n",
    "                                "
   ]
  },
  {
   "cell_type": "code",
   "execution_count": 102,
   "id": "b3b28101-4a87-41ec-acec-f829d3e0c106",
   "metadata": {},
   "outputs": [
    {
     "data": {
      "text/plain": [
       "lLO_toolloc_lPFS_toolloc_cat         0.703976\n",
       "lLO_toolloc_lPFS_toolloc_ident       0.734297\n",
       "rLO_toolloc_rPFS_toolloc_cat         0.885441\n",
       "rLO_toolloc_rPFS_toolloc_ident       0.869920\n",
       "rLO_toolloc_rPPC_spaceloc_cat        0.711274\n",
       "rLO_toolloc_rPPC_spaceloc_ident      0.709435\n",
       "rLO_toolloc_rAPC_spaceloc_cat        0.719158\n",
       "rLO_toolloc_rAPC_spaceloc_ident      0.715576\n",
       "rPFS_toolloc_rPPC_spaceloc_cat       0.694051\n",
       "rPFS_toolloc_rPPC_spaceloc_ident     0.662207\n",
       "rPFS_toolloc_rAPC_spaceloc_cat       0.710037\n",
       "rPFS_toolloc_rAPC_spaceloc_ident     0.701926\n",
       "rPPC_spaceloc_rAPC_spaceloc_cat      0.928583\n",
       "rPPC_spaceloc_rAPC_spaceloc_ident    0.933273\n",
       "dtype: float64"
      ]
     },
     "execution_count": 102,
     "metadata": {},
     "output_type": "execute_result"
    }
   ],
   "source": [
    "sub_df.mean(axis=0)"
   ]
  },
  {
   "cell_type": "code",
   "execution_count": 93,
   "id": "0d676328-92c3-45d2-9219-736d08252753",
   "metadata": {},
   "outputs": [],
   "source": [
    "sub_df.to_csv('correls.csv')"
   ]
  },
  {
   "cell_type": "code",
   "execution_count": 75,
   "id": "1cabc3a1-83df-4c65-bdd2-682aa58b88c3",
   "metadata": {},
   "outputs": [],
   "source": [
    "\n",
    "sub_df[f'{roi1}_{roi2}_ident'] = pd.Series(cov_corr[1])"
   ]
  },
  {
   "cell_type": "code",
   "execution_count": 76,
   "id": "ebd75fb8-0938-4463-80bb-4f1a1e81080f",
   "metadata": {},
   "outputs": [
    {
     "data": {
      "text/html": [
       "<div>\n",
       "<style scoped>\n",
       "    .dataframe tbody tr th:only-of-type {\n",
       "        vertical-align: middle;\n",
       "    }\n",
       "\n",
       "    .dataframe tbody tr th {\n",
       "        vertical-align: top;\n",
       "    }\n",
       "\n",
       "    .dataframe thead th {\n",
       "        text-align: right;\n",
       "    }\n",
       "</style>\n",
       "<table border=\"1\" class=\"dataframe\">\n",
       "  <thead>\n",
       "    <tr style=\"text-align: right;\">\n",
       "      <th></th>\n",
       "      <th>LO_toolloc_PFS_toolloc_cat</th>\n",
       "      <th>LO_toolloc_PFS_toolloc_ident</th>\n",
       "    </tr>\n",
       "  </thead>\n",
       "  <tbody>\n",
       "    <tr>\n",
       "      <th>0</th>\n",
       "      <td>0.808432</td>\n",
       "      <td>0.824995</td>\n",
       "    </tr>\n",
       "    <tr>\n",
       "      <th>1</th>\n",
       "      <td>0.707892</td>\n",
       "      <td>0.814953</td>\n",
       "    </tr>\n",
       "    <tr>\n",
       "      <th>2</th>\n",
       "      <td>0.788863</td>\n",
       "      <td>0.756160</td>\n",
       "    </tr>\n",
       "    <tr>\n",
       "      <th>3</th>\n",
       "      <td>0.787452</td>\n",
       "      <td>0.877049</td>\n",
       "    </tr>\n",
       "    <tr>\n",
       "      <th>4</th>\n",
       "      <td>0.761947</td>\n",
       "      <td>0.767713</td>\n",
       "    </tr>\n",
       "    <tr>\n",
       "      <th>5</th>\n",
       "      <td>0.788619</td>\n",
       "      <td>0.851858</td>\n",
       "    </tr>\n",
       "  </tbody>\n",
       "</table>\n",
       "</div>"
      ],
      "text/plain": [
       "   LO_toolloc_PFS_toolloc_cat  LO_toolloc_PFS_toolloc_ident\n",
       "0                    0.808432                      0.824995\n",
       "1                    0.707892                      0.814953\n",
       "2                    0.788863                      0.756160\n",
       "3                    0.787452                      0.877049\n",
       "4                    0.761947                      0.767713\n",
       "5                    0.788619                      0.851858"
      ]
     },
     "execution_count": 76,
     "metadata": {},
     "output_type": "execute_result"
    }
   ],
   "source": [
    "sub_df"
   ]
  },
  {
   "cell_type": "code",
   "execution_count": 56,
   "id": "671dc7d0-91ee-41ed-a3d9-31772b941b91",
   "metadata": {},
   "outputs": [
    {
     "data": {
      "text/plain": [
       "0.7886188768498212"
      ]
     },
     "execution_count": 56,
     "metadata": {},
     "output_type": "execute_result"
    }
   ],
   "source": [
    "np.corrcoef(roi_ts1[cond_ind[0]], roi_ts2[cond_ind[0]])[0,1]"
   ]
  },
  {
   "cell_type": "code",
   "execution_count": 21,
   "id": "1125ac16-7213-47c9-8210-8c57005f793a",
   "metadata": {},
   "outputs": [],
   "source": [
    "for ss in subj_list:\n",
    "    #grab  functional image in each sub dir\n",
    "    sub_dir = f\"{exp_dir}/sub-{exp}{ss}/ses-02/derivatives\"\n",
    "    cov_dir = f\"{exp_dir}/sub-{exp}{ss}/ses-02/covs\"\n",
    "    ts_dir= f'{sub_dir}/results/timeseries'\n",
    "    \n",
    "    for cn, cc in enumerate(cond):\n",
    "        task_dir = f\"{sub_dir}/fsl/{cc}\"\n",
    "        runs = glob(f'{task_dir}/run-0*/')\n",
    "        \n",
    "        for rn, rr in enumerate(runs):\n",
    "            #load covs for that run\n",
    "            \n",
    "            cond_ind = [[] for _ in range(0,len(cov_cond))]\n",
    "            for cvn, cv in enumerate(cov_cond):\n",
    "                #Load cov\n",
    "                curr_cov = np.round(np.loadtxt(f'{cov_dir}/{cov[cn]}_{exp}{ss}_Run{rn+1}_{cv}.txt', delimiter =\"\\t\"),0)\n",
    "                \n",
    "                #create indices from cov\n",
    "                for crn, crc in enumerate(curr_cov[:,0]):\n",
    "                    #Create a nested list where each nested list contains the index of volumes for each condiction of a task\n",
    "                    cond_ind[cvn] = cond_ind[cvn] + list(range(int(crc), int(crc+curr_cov[crn,1])))\n",
    "                \n",
    "            #load timeseries for each ROI    \n",
    "            for roi in rois:\n",
    "                for lr in [\"l\", \"r\"]:# left/right\n",
    "                    #check if roi exists\n",
    "                    ts_file = f'{ts_dir}/{cc}_run-0{rn+1}_{lr}{roi}_timecourse.txt'\n",
    "                    if os.path.exists(ts_file):\n",
    "                        curr_ts = np.loadtxt(ts_file)\n",
    "                        \n",
    "                        \n",
    "                    break\n",
    "                break\n",
    "            break\n",
    "        break\n",
    "    break\n",
    "    \n",
    "                #pdb.set_trace()\n",
    "                \n",
    "\n",
    "            \n",
    "            \n",
    "                \n",
    "                \n",
    "            \n",
    "        \n",
    "    \n",
    "    "
   ]
  },
  {
   "cell_type": "code",
   "execution_count": 22,
   "id": "81bb262f-83bf-46f0-b3ff-d8470d888313",
   "metadata": {},
   "outputs": [
    {
     "data": {
      "text/plain": [
       "array([9560.651118, 9528.304909, 9553.924545, 9543.650654, 9516.055   ,\n",
       "       9510.112472, 9493.261431, 9450.735946, 9399.468504, 9405.344531,\n",
       "       9404.792691, 9395.397694, 9389.391655, 9435.474564, 9485.457331,\n",
       "       9517.647238, 9558.794851, 9577.540641, 9588.02612 , 9544.315668,\n",
       "       9533.107957, 9532.798199, 9520.65959 , 9531.09433 , 9572.184901,\n",
       "       9586.068016, 9586.917356, 9569.347606, 9541.418773, 9557.511211,\n",
       "       9572.684342, 9566.866712, 9588.455349, 9563.288265, 9501.214786,\n",
       "       9464.073608, 9458.093899, 9457.178254, 9446.731365, 9451.708569,\n",
       "       9464.66511 , 9480.620226, 9530.574104, 9567.476158, 9570.166585,\n",
       "       9572.445513, 9558.39147 , 9525.237928, 9515.971701, 9510.742421,\n",
       "       9504.952199, 9492.729773, 9503.360136, 9518.175207, 9493.397699,\n",
       "       9519.902062, 9528.574249, 9531.833334, 9563.181729, 9590.390036,\n",
       "       9585.153982, 9481.051723, 9420.686374, 9420.250045, 9431.987684,\n",
       "       9430.572164, 9442.865838, 9486.778225, 9516.003028, 9494.844423,\n",
       "       9491.199399, 9478.566194, 9466.915408, 9469.202515, 9503.257659,\n",
       "       9504.709476, 9501.717629, 9487.854089, 9495.508266, 9497.008365,\n",
       "       9498.901117, 9508.169077, 9517.406505, 9516.80241 , 9512.36555 ,\n",
       "       9534.463327, 9527.38345 , 9498.58758 , 9464.860368, 9435.580892,\n",
       "       9394.437541, 9382.376778, 9412.642822, 9474.074911, 9503.126289,\n",
       "       9571.544996, 9612.164679, 9604.609502, 9595.750808, 9546.823901,\n",
       "       9516.493998, 9532.629304, 9540.599194, 9532.420143, 9551.685678,\n",
       "       9576.61649 , 9588.543657, 9605.648055, 9628.763227, 9620.160365,\n",
       "       9572.127602, 9566.096187, 9571.2462  , 9561.526331, 9559.384759,\n",
       "       9549.924912, 9482.196074, 9399.794219, 9351.347875, 9351.02279 ,\n",
       "       9381.470262, 9396.073248, 9458.778464, 9512.087664, 9538.678855,\n",
       "       9547.97813 , 9588.965703, 9587.559858, 9560.820267, 9553.183916,\n",
       "       9532.71241 , 9487.608892, 9478.059239, 9489.525133, 9494.551656,\n",
       "       9481.556873, 9514.01237 , 9554.045061, 9580.568719, 9563.666774,\n",
       "       9540.514085, 9479.227792, 9406.06859 , 9377.451504, 9358.610988,\n",
       "       9365.691132, 9382.365783, 9424.192561, 9473.955815, 9501.863077,\n",
       "       9502.425866, 9513.160283, 9510.934786, 9502.401805, 9520.974617,\n",
       "       9514.96712 , 9481.925834, 9454.987912, 9451.068876, 9450.602971,\n",
       "       9449.775528, 9471.411538, 9505.214482, 9526.877995, 9541.302302,\n",
       "       9563.469553, 9557.997733, 9543.444118, 9525.619207, 9512.660494,\n",
       "       9476.406167, 9438.771371, 9402.669159, 9387.981129, 9441.57962 ,\n",
       "       9517.272683, 9549.641432, 9564.708979, 9572.181948, 9560.057893,\n",
       "       9553.119601, 9552.440039, 9562.958924, 9555.89251 , 9566.547313,\n",
       "       9585.287485, 9592.233886, 9563.9114  , 9502.647865, 9485.826975,\n",
       "       9497.350131, 9498.395003, 9486.95527 , 9491.275911, 9516.402686,\n",
       "       9504.936476, 9473.929006, 9466.200085, 9449.477267, 9440.604537,\n",
       "       9442.488332, 9472.917939, 9500.824482, 9519.76342 , 9559.289805,\n",
       "       9558.196332, 9555.583169, 9553.318833, 9575.978912, 9569.261819,\n",
       "       9546.365256, 9548.160646, 9545.154295, 9543.664745, 9541.792994,\n",
       "       9563.876531, 9563.466245, 9563.734992, 9584.843124, 9580.222034,\n",
       "       9608.517211, 9604.164793, 9556.803755, 9517.048788, 9479.298589,\n",
       "       9428.282095, 9402.598439, 9408.015126, 9429.367478, 9455.365958,\n",
       "       9520.047076, 9567.913981, 9567.418737, 9577.435791, 9571.185554,\n",
       "       9548.506819, 9511.524732, 9496.850022, 9460.059325, 9426.00475 ,\n",
       "       9437.285788, 9458.95058 , 9466.089314, 9472.609035, 9480.707741,\n",
       "       9483.272577, 9481.710572, 9495.022708, 9493.647128, 9488.983326,\n",
       "       9468.214767, 9438.672204, 9416.602655, 9435.309633, 9460.6981  ,\n",
       "       9494.632574, 9501.830986, 9519.235285, 9527.602837, 9510.080027,\n",
       "       9481.546782, 9489.458071, 9512.585147, 9540.064578, 9566.672993,\n",
       "       9624.402424, 9673.168359, 9655.321685, 9616.836319, 9594.915215,\n",
       "       9541.224256, 9490.931198, 9490.008502, 9483.733993, 9488.552339,\n",
       "       9503.745238, 9523.908366, 9504.613084, 9470.022055, 9442.52161 ,\n",
       "       9414.982331])"
      ]
     },
     "execution_count": 22,
     "metadata": {},
     "output_type": "execute_result"
    }
   ],
   "source": [
    "curr_ts"
   ]
  },
  {
   "cell_type": "code",
   "execution_count": 9,
   "id": "d4f77ec6-401c-4f0c-b6a9-2bfb583c5ab2",
   "metadata": {},
   "outputs": [
    {
     "data": {
      "text/plain": [
       "[[], []]"
      ]
     },
     "execution_count": 9,
     "metadata": {},
     "output_type": "execute_result"
    }
   ],
   "source": [
    "cond_ind"
   ]
  },
  {
   "cell_type": "code",
   "execution_count": 16,
   "id": "431674fb-6276-4678-a0ca-7a5bb84d7af2",
   "metadata": {},
   "outputs": [
    {
     "data": {
      "text/plain": [
       "5"
      ]
     },
     "execution_count": 16,
     "metadata": {},
     "output_type": "execute_result"
    }
   ],
   "source": [
    "len(test)"
   ]
  },
  {
   "cell_type": "code",
   "execution_count": 20,
   "id": "6e7ce6b6-5287-44d6-b45b-d23742355a61",
   "metadata": {},
   "outputs": [
    {
     "ename": "SyntaxError",
     "evalue": "unexpected EOF while parsing (<ipython-input-20-3878c7f820ad>, line 1)",
     "output_type": "error",
     "traceback": [
      "\u001b[0;36m  File \u001b[0;32m\"<ipython-input-20-3878c7f820ad>\"\u001b[0;36m, line \u001b[0;32m1\u001b[0m\n\u001b[0;31m    list(range(int(test[cvds,0]),int(test[cvds,0]+test[cvds,1])) for cvds in range(0, len(test))\u001b[0m\n\u001b[0m                                                                                                ^\u001b[0m\n\u001b[0;31mSyntaxError\u001b[0m\u001b[0;31m:\u001b[0m unexpected EOF while parsing\n"
     ]
    }
   ],
   "source": [
    "list(range(int(test[cvds,0]),int(test[cvds,0]+test[cvds,1])) for cvds in range(0, len(test))"
   ]
  },
  {
   "cell_type": "code",
   "execution_count": null,
   "id": "7e6d11f4-a478-4c06-afb7-fb6f1b9e80c9",
   "metadata": {},
   "outputs": [],
   "source": []
  }
 ],
 "metadata": {
  "kernelspec": {
   "display_name": "Python 3",
   "language": "python",
   "name": "python3"
  },
  "language_info": {
   "codemirror_mode": {
    "name": "ipython",
    "version": 3
   },
   "file_extension": ".py",
   "mimetype": "text/x-python",
   "name": "python",
   "nbconvert_exporter": "python",
   "pygments_lexer": "ipython3",
   "version": "3.7.10"
  }
 },
 "nbformat": 4,
 "nbformat_minor": 5
}
