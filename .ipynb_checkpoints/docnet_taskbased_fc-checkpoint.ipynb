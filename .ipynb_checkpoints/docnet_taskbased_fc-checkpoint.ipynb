{
 "cells": [
  {
   "cell_type": "code",
   "execution_count": 5,
   "id": "61621104-f46b-494d-beaf-ba19fe7b2954",
   "metadata": {},
   "outputs": [],
   "source": [
    "import pandas as pd\n",
    "import numpy as np\n",
    "import matplotlib.pyplot as plt\n",
    "import matplotlib.pylab as pl\n",
    "from scipy import stats\n",
    "from glob import glob\n",
    "#from sklearn.model_selection import ShuffleSplit\n",
    "#from sklearn.linear_model import Ridge\n",
    "#from sklearn.preprocessing import MinMaxScaler\n"
   ]
  },
  {
   "cell_type": "code",
   "execution_count": 6,
   "id": "40d7bb80-ac99-4af3-985c-84a9ecd1e793",
   "metadata": {},
   "outputs": [],
   "source": [
    "subj_list=[\"1003\"]\n",
    "exp = \"spaceloc\"\n",
    "cond=[\"spaceloc\"]\n",
    "suf=\"\"\n",
    "rois = [\"LO_toolloc\", 'PFS_toolloc', 'PPC_spaceloc', 'APC_spaceloc']\n",
    "cov = ['SpaceLoc']\n",
    "cov_cond = ['SA', 'FT']\n",
    "\n",
    "#rois = [\"LO_toolloc\"]\n",
    "\n",
    "exp_dir=f\"/lab_data/behrmannlab/vlad/{exp}\"\n"
   ]
  },
  {
   "cell_type": "code",
   "execution_count": 10,
   "id": "1125ac16-7213-47c9-8210-8c57005f793a",
   "metadata": {},
   "outputs": [],
   "source": [
    "for ss in subj_list:\n",
    "    #grab  functional image in each sub dir\n",
    "    sub_dir = f\"{exp_dir}/sub-{exp}{ss}/ses-01/derivatives\"\n",
    "    cov_dir = f\"{exp_dir}/sub-{exp}{ss}/ses-01/covs\"\n",
    "    ts_dir= f'{sub_dir}/results/timeseries'\n",
    "    \n",
    "    for cn, cc in enumerate(cond):\n",
    "        task_dir = f\"{sub_dir}/fsl/{cc}\"\n",
    "        runs = glob(f'{task_dir}/run-0*/')\n",
    "        \n",
    "        for rn, rr in enumerate(runs):\n",
    "            #load covs for that run\n",
    "            curr_covs = []\n",
    "            for cv in cov_cond:\n",
    "                curr_cov = np.loadtxt(f'{cov_dir}/{cov[cn]}_{exp}{ss}_Run{rn+1}_{cv}.txt', delimiter =\"\\t\")\n",
    "                break\n",
    "            break\n",
    "        break\n",
    "    break\n",
    "            \n",
    "            \n",
    "            #for roi in rois:\n",
    "            #    curr_ts = np.loadtxt(f'{ts_dir}/{cc}_run-0{rn}_{roi}_timecourse.txt')\n",
    "                \n",
    "                \n",
    "            \n",
    "        \n",
    "    \n",
    "    "
   ]
  },
  {
   "cell_type": "code",
   "execution_count": 14,
   "id": "d4f77ec6-401c-4f0c-b6a9-2bfb583c5ab2",
   "metadata": {},
   "outputs": [
    {
     "data": {
      "text/plain": [
       "array([[ 30.,  20.,   1.],\n",
       "       [110.,  20.,   1.],\n",
       "       [130.,  20.,   1.],\n",
       "       [190.,  20.,   1.],\n",
       "       [270.,  20.,   1.]])"
      ]
     },
     "execution_count": 14,
     "metadata": {},
     "output_type": "execute_result"
    }
   ],
   "source": [
    "test = np.round(curr_cov,0)\n",
    "test"
   ]
  },
  {
   "cell_type": "code",
   "execution_count": 16,
   "id": "431674fb-6276-4678-a0ca-7a5bb84d7af2",
   "metadata": {},
   "outputs": [
    {
     "data": {
      "text/plain": [
       "5"
      ]
     },
     "execution_count": 16,
     "metadata": {},
     "output_type": "execute_result"
    }
   ],
   "source": [
    "len(test)"
   ]
  },
  {
   "cell_type": "code",
   "execution_count": 20,
   "id": "6e7ce6b6-5287-44d6-b45b-d23742355a61",
   "metadata": {},
   "outputs": [
    {
     "ename": "SyntaxError",
     "evalue": "unexpected EOF while parsing (<ipython-input-20-3878c7f820ad>, line 1)",
     "output_type": "error",
     "traceback": [
      "\u001b[0;36m  File \u001b[0;32m\"<ipython-input-20-3878c7f820ad>\"\u001b[0;36m, line \u001b[0;32m1\u001b[0m\n\u001b[0;31m    list(range(int(test[cvds,0]),int(test[cvds,0]+test[cvds,1])) for cvds in range(0, len(test))\u001b[0m\n\u001b[0m                                                                                                ^\u001b[0m\n\u001b[0;31mSyntaxError\u001b[0m\u001b[0;31m:\u001b[0m unexpected EOF while parsing\n"
     ]
    }
   ],
   "source": [
    "list(range(int(test[cvds,0]),int(test[cvds,0]+test[cvds,1])) for cvds in range(0, len(test))"
   ]
  },
  {
   "cell_type": "code",
   "execution_count": null,
   "id": "7e6d11f4-a478-4c06-afb7-fb6f1b9e80c9",
   "metadata": {},
   "outputs": [],
   "source": []
  }
 ],
 "metadata": {
  "kernelspec": {
   "display_name": "Python 3",
   "language": "python",
   "name": "python3"
  },
  "language_info": {
   "codemirror_mode": {
    "name": "ipython",
    "version": 3
   },
   "file_extension": ".py",
   "mimetype": "text/x-python",
   "name": "python",
   "nbconvert_exporter": "python",
   "pygments_lexer": "ipython3",
   "version": "3.7.10"
  }
 },
 "nbformat": 4,
 "nbformat_minor": 5
}
