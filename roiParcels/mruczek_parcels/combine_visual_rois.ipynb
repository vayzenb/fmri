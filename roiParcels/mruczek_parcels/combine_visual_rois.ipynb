{
 "cells": [
  {
   "cell_type": "code",
   "execution_count": 1,
   "metadata": {},
   "outputs": [
    {
     "name": "stderr",
     "output_type": "stream",
     "text": [
      "/home/vayzenbe/.conda/envs/brainiak/lib/python3.7/site-packages/nilearn/datasets/__init__.py:89: FutureWarning: Fetchers from the nilearn.datasets module will be updated in version 0.9 to return python strings instead of bytes and Pandas dataframes instead of Numpy arrays.\n",
      "  \"Numpy arrays.\", FutureWarning)\n"
     ]
    }
   ],
   "source": [
    "import numpy as np\n",
    "from nilearn import image, plotting\n",
    "import nibabel as nib\n",
    "from glob import glob as glob"
   ]
  },
  {
   "cell_type": "code",
   "execution_count": 2,
   "metadata": {},
   "outputs": [],
   "source": [
    "parcel_dir = '/user_data/vayzenbe/GitHub_Repos/fmri/roiParcels/mruczek_parcels'\n",
    "og_mni =image.load_img('/opt/fsl/6.0.3/data/standard/MNI152_T1_1mm_brain.nii.gz')\n",
    "og_affine = og_mni.affine\n",
    "new_mni= image.load_img('/opt/fsl/6.0.3/data/standard/MNI152_T1_2mm_brain.nii.gz')\n",
    "new_affine = new_mni.affine\n",
    "\n",
    "all_mask = np.zeros(og_mni.shape)\n",
    "parcel_files= glob(f'{parcel_dir}/subj_vol_all/*')"
   ]
  },
  {
   "cell_type": "code",
   "execution_count": 3,
   "metadata": {},
   "outputs": [],
   "source": [
    "for ii in parcel_files:\n",
    "    \n",
    "    curr_file =image.get_data(image.load_img(ii))\n",
    "    curr_file[curr_file[:,:,:] >0] = 1\n",
    "\n",
    "    all_mask = all_mask + curr_file\n",
    "\n",
    "all_mask[all_mask[:,:,:] >0] = 1\n",
    "all_mask[all_mask[:,:,:]!=1] = 0"
   ]
  },
  {
   "cell_type": "code",
   "execution_count": 4,
   "metadata": {},
   "outputs": [
    {
     "name": "stderr",
     "output_type": "stream",
     "text": [
      "/home/vayzenbe/.conda/envs/brainiak/lib/python3.7/site-packages/nilearn/image/resampling.py:273: UserWarning: Resampling binary images with continuous or linear interpolation. This might lead to unexpected results. You might consider using nearest interpolation instead.\n",
      "  warnings.warn(\"Resampling binary images with continuous or \"\n"
     ]
    },
    {
     "name": "stdout",
     "output_type": "stream",
     "text": [
      "(91, 109, 91)\n"
     ]
    }
   ],
   "source": [
    "all_masks = nib.Nifti1Image(all_mask, og_affine)\n",
    "all_masks = image.resample_to_img(all_masks, new_mni)\n",
    "print(all_masks.shape)"
   ]
  },
  {
   "cell_type": "code",
   "execution_count": 5,
   "metadata": {},
   "outputs": [],
   "source": [
    "nib.save(all_masks, f'{parcel_dir}/binary/all_visual_areas.nii.gz')  # Save the volume"
   ]
  },
  {
   "cell_type": "code",
   "execution_count": null,
   "metadata": {},
   "outputs": [],
   "source": []
  }
 ],
 "metadata": {
  "interpreter": {
   "hash": "916856ec24c16ab51d78b3709200ea33364ebc8e6b0aedf4b413156dba8c7e75"
  },
  "kernelspec": {
   "display_name": "Python 3.7.11 64-bit ('brainiak': conda)",
   "name": "python3"
  },
  "language_info": {
   "codemirror_mode": {
    "name": "ipython",
    "version": 3
   },
   "file_extension": ".py",
   "mimetype": "text/x-python",
   "name": "python",
   "nbconvert_exporter": "python",
   "pygments_lexer": "ipython3",
   "version": "3.7.11"
  },
  "orig_nbformat": 4
 },
 "nbformat": 4,
 "nbformat_minor": 2
}
